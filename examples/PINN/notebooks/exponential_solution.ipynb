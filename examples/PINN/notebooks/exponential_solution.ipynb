{
 "cells": [
  {
   "cell_type": "code",
   "execution_count": 1,
   "id": "5c2a6406-1268-41e8-b4f1-864979c912f3",
   "metadata": {},
   "outputs": [],
   "source": [
    "# (C) Copyright IBM Corp. 2019, 2020, 2021, 2022.\n",
    "\n",
    "#    Licensed under the Apache License, Version 2.0 (the \"License\");\n",
    "#    you may not use this file except in compliance with the License.\n",
    "#    You may obtain a copy of the License at\n",
    "\n",
    "#           http://www.apache.org/licenses/LICENSE-2.0\n",
    "\n",
    "#     Unless required by applicable law or agreed to in writing, software\n",
    "#     distributed under the License is distributed on an \"AS IS\" BASIS,\n",
    "#     WITHOUT WARRANTIES OR CONDITIONS OF ANY KIND, either express or implied.\n",
    "#     See the License for the specific language governing permissions and\n",
    "#     limitations under the License.\n"
   ]
  },
  {
   "cell_type": "code",
   "execution_count": 2,
   "id": "688d37cd-e75d-4ec5-936c-6462c67c7653",
   "metadata": {},
   "outputs": [],
   "source": [
    "import os\n",
    "import matplotlib.pyplot as plt\n",
    "import numpy as np\n",
    "import torch"
   ]
  },
  {
   "cell_type": "code",
   "execution_count": 4,
   "id": "cfc6b7c0-e482-4dac-88d2-cd59d7a6e1f0",
   "metadata": {},
   "outputs": [],
   "source": [
    "from simulai.metrics import L2Norm\n",
    "from simulai.optimization import Optimizer\n",
    "from simulai.regression import DenseNetwork\n",
    "from simulai.residuals import SymbolicOperator"
   ]
  },
  {
   "cell_type": "markdown",
   "id": "ed90ff28-1e2b-453c-858e-ff4aafe3c0db",
   "metadata": {},
   "source": [
    "#### Global parameters."
   ]
  },
  {
   "cell_type": "code",
   "execution_count": 5,
   "id": "63deba26-0d74-4bfc-adf9-5b0b0001b213",
   "metadata": {},
   "outputs": [],
   "source": [
    "N = 10_000\n",
    "n = 1_000\n",
    "T_max = 1\n",
    "mu = 40"
   ]
  },
  {
   "cell_type": "markdown",
   "id": "63f80fb2-6a5f-4c32-ac27-9f9963241297",
   "metadata": {},
   "source": [
    "#### Time domains."
   ]
  },
  {
   "cell_type": "code",
   "execution_count": 6,
   "id": "6758c7f8-a74e-4a63-96a3-4994121dc77c",
   "metadata": {},
   "outputs": [],
   "source": [
    "time_train = (np.random.rand(n) * T_max)[:, None]\n",
    "time_eval = np.linspace(0, T_max, N)[:, None]"
   ]
  },
  {
   "cell_type": "markdown",
   "id": "3fa6069a-f238-4538-93c1-46c6d9c339b9",
   "metadata": {},
   "source": [
    "#### Ground truth solution."
   ]
  },
  {
   "cell_type": "code",
   "execution_count": 7,
   "id": "5c25514e-3982-45ae-80c9-12760f410395",
   "metadata": {},
   "outputs": [],
   "source": [
    "def dataset(t):\n",
    "    return np.exp(-t)"
   ]
  },
  {
   "cell_type": "markdown",
   "id": "8db39d19-abdf-42c5-b39b-b9cac3fd7497",
   "metadata": {},
   "source": [
    "#### Ground truth data."
   ]
  },
  {
   "cell_type": "code",
   "execution_count": 8,
   "id": "0e5f1566-9b08-476d-ba2a-3a8e36ebb684",
   "metadata": {},
   "outputs": [],
   "source": [
    "u_data = dataset(t=mu*time_eval)"
   ]
  },
  {
   "cell_type": "markdown",
   "id": "8b752b67-3e89-48fa-baa7-f82a3ae87972",
   "metadata": {},
   "source": [
    "#### Our ODE.\n",
    "$$\n",
    "\\frac{du}{dt} + \\mu\\,u = 0\n",
    "$$"
   ]
  },
  {
   "cell_type": "code",
   "execution_count": 9,
   "id": "2794e38d-ca9b-41c3-9900-9f59f05163d4",
   "metadata": {},
   "outputs": [],
   "source": [
    "f = \"D(u, t) + mu*u\""
   ]
  },
  {
   "cell_type": "markdown",
   "id": "b680cceb-f48b-45d3-8cca-ef66b3a2f509",
   "metadata": {},
   "source": [
    "#### Set up: variables names, number of epochs and learning rate."
   ]
  },
  {
   "cell_type": "code",
   "execution_count": 10,
   "id": "eea9e3e9-4ce0-445b-8c54-6b934ff0ab73",
   "metadata": {},
   "outputs": [],
   "source": [
    "input_labels = [\"t\"]\n",
    "output_labels = [\"u\"]\n",
    "n_inputs = len(input_labels)\n",
    "n_outputs = len(output_labels)\n",
    "n_epochs = 5_000 \n",
    "lr = 1e-3 "
   ]
  },
  {
   "cell_type": "markdown",
   "id": "5bc7522b-512b-4d6c-93c9-0d44be545c4a",
   "metadata": {},
   "source": [
    "#### The neural net model template."
   ]
  },
  {
   "cell_type": "code",
   "execution_count": 11,
   "id": "b8d635bf-6b52-4c09-a2ec-48967bb9cab0",
   "metadata": {},
   "outputs": [],
   "source": [
    "def model():\n",
    "    \n",
    "    from simulai.models import ImprovedDenseNetwork\n",
    "    from simulai.regression import SLFNN, ConvexDenseNetwork\n",
    "\n",
    "    # Configuration for the fully-connected network\n",
    "    config = {\n",
    "        \"layers_units\": [50, 50, 50],\n",
    "        \"activations\": \"elu\",\n",
    "        \"input_size\": 1,\n",
    "        \"output_size\": 1,\n",
    "        \"name\": \"net\",\n",
    "    }\n",
    "\n",
    "    # Instantiating and training the surrogate model\n",
    "    densenet = ConvexDenseNetwork(**config)\n",
    "    encoder_u = SLFNN(input_size=1, output_size=50, activation=\"elu\")\n",
    "    encoder_v = SLFNN(input_size=1, output_size=50, activation=\"elu\")\n",
    "\n",
    "    net = ImprovedDenseNetwork(\n",
    "        network=densenet,\n",
    "        encoder_u=encoder_u,\n",
    "        encoder_v=encoder_v,\n",
    "        devices=\"gpu\",\n",
    "    )\n",
    "\n",
    "    # It prints a summary of the network features\n",
    "    net.summary()\n",
    "\n",
    "    return net"
   ]
  },
  {
   "cell_type": "markdown",
   "id": "b47990e4-d059-417a-9d8f-5156551eb761",
   "metadata": {},
   "source": [
    "#### Instantiating the model."
   ]
  },
  {
   "cell_type": "code",
   "execution_count": 12,
   "id": "9325ff0f-9f49-49a2-b316-d5f17302c589",
   "metadata": {},
   "outputs": [
    {
     "name": "stdout",
     "output_type": "stream",
     "text": [
      "ImprovedDenseNetwork(\n",
      "  (network): ConvexDenseNetwork(\n",
      "    (net_input): Linear(in_features=1, out_features=50, bias=True)\n",
      "    (net_0): Linear(in_features=50, out_features=50, bias=True)\n",
      "    (net_1): Linear(in_features=50, out_features=50, bias=True)\n",
      "    (net_2): Linear(in_features=50, out_features=1, bias=True)\n",
      "  )\n",
      "  (encoder_u): SLFNN(\n",
      "    (nnet_linear_op): Linear(in_features=1, out_features=50, bias=True)\n",
      "    (activation): ELU(alpha=1.0)\n",
      "  )\n",
      "  (encoder_v): SLFNN(\n",
      "    (nnet_linear_op): Linear(in_features=1, out_features=50, bias=True)\n",
      "    (activation): ELU(alpha=1.0)\n",
      "  )\n",
      ")\n"
     ]
    }
   ],
   "source": [
    "net = model()"
   ]
  },
  {
   "cell_type": "markdown",
   "id": "fb5ba5c5-e21c-433c-a2f3-13f1e7b5ca8a",
   "metadata": {},
   "source": [
    "#### Optimizer configuration."
   ]
  },
  {
   "cell_type": "code",
   "execution_count": 13,
   "id": "cf9af499-132e-496a-997a-ea1558209cb4",
   "metadata": {},
   "outputs": [],
   "source": [
    "optimizer_config = {\"lr\": lr}"
   ]
  },
  {
   "cell_type": "markdown",
   "id": "e80bbe63-f369-441f-9606-c722826ff1a8",
   "metadata": {},
   "source": [
    "#### Extra parameters to be sent to the loss function."
   ]
  },
  {
   "cell_type": "markdown",
   "id": "74d0d4d3-caca-4d9c-be36-5d84807a57f3",
   "metadata": {},
   "source": [
    "#### Optimizer instance."
   ]
  },
  {
   "cell_type": "code",
   "execution_count": 15,
   "id": "b4401ec1-e9fe-42db-9e2e-24dce402b75e",
   "metadata": {},
   "outputs": [
    {
     "name": "stdout",
     "output_type": "stream",
     "text": [
      "Optimizer adam found in torch.optim.\n"
     ]
    }
   ],
   "source": [
    "optimizer = Optimizer(\"adam\", params=optimizer_config)"
   ]
  },
  {
   "cell_type": "markdown",
   "id": "0cc74e32-3906-4bda-9944-bf895c3819e1",
   "metadata": {},
   "source": [
    "#### Symbolic residual instance."
   ]
  },
  {
   "cell_type": "code",
   "execution_count": 16,
   "id": "3031a87a-1cc2-4c7b-9324-e3c32e090b31",
   "metadata": {},
   "outputs": [
    {
     "name": "stdout",
     "output_type": "stream",
     "text": [
      "Warning: There is no GPU available, using CPU instead.\n"
     ]
    }
   ],
   "source": [
    "residual = SymbolicOperator(\n",
    "    expressions=[f],\n",
    "    input_vars=[\"t\"],\n",
    "    output_vars=[\"u\"],\n",
    "    constants = {'mu': mu},\n",
    "    function=net,\n",
    "    engine=\"torch\",\n",
    "    device=\"gpu\",\n",
    ")"
   ]
  },
  {
   "cell_type": "code",
   "execution_count": 17,
   "id": "f28bfdab-0681-473c-8265-2a41f0d7a889",
   "metadata": {},
   "outputs": [],
   "source": [
    "params = {\n",
    "    \"residual\": residual,\n",
    "    \"initial_input\": np.array([0])[:, None],\n",
    "    \"initial_state\": np.array([1]),\n",
    "    \"weights_residual\": [1],\n",
    "    \"initial_penalty\": 1000,\n",
    "}"
   ]
  },
  {
   "cell_type": "markdown",
   "id": "b4d79fe9-6e73-4d93-9241-b9ecd526ee6a",
   "metadata": {},
   "source": [
    "#### Executing the training. "
   ]
  },
  {
   "cell_type": "code",
   "execution_count": 18,
   "id": "ef34cd68-8bd0-43b1-a718-c1bd9dcf4ed3",
   "metadata": {},
   "outputs": [
    {
     "name": "stdout",
     "output_type": "stream",
     "text": [
      "There are extra trainable parameters.\n",
      "Warning: There is no GPU available, using CPU instead.\n",
      "pde:0.0029339564498513937 init:2.412207322777249e-09 bound:0.0  "
     ]
    }
   ],
   "source": [
    "optimizer.fit(\n",
    "    op=net,\n",
    "    input_data=time_train,\n",
    "    n_epochs=n_epochs,\n",
    "    loss=\"pirmse\",\n",
    "    params=params,\n",
    "    device=\"gpu\",\n",
    ")"
   ]
  },
  {
   "cell_type": "markdown",
   "id": "2bf196e4-6498-4be1-8007-7f42a31957e7",
   "metadata": {},
   "source": [
    "#### Evaluating approximation error. "
   ]
  },
  {
   "cell_type": "code",
   "execution_count": 19,
   "id": "5cd33eed-3ad6-431c-b982-ab0d32d7c5b8",
   "metadata": {},
   "outputs": [
    {
     "name": "stdout",
     "output_type": "stream",
     "text": [
      "Approximation error: 0.7764311447450737 %\n"
     ]
    }
   ],
   "source": [
    "approximated_data = net.eval(input_data=time_eval)\n",
    "l2_norm = L2Norm()\n",
    "error = 100 * l2_norm(data=approximated_data, reference_data=u_data, relative_norm=True)\n",
    "print(f\"Approximation error: {error} %\")"
   ]
  },
  {
   "cell_type": "markdown",
   "id": "11879415-503c-40e1-b963-d5d7ef054015",
   "metadata": {},
   "source": [
    "#### Plotting "
   ]
  },
  {
   "cell_type": "code",
   "execution_count": 20,
   "id": "e1d1b813-5d92-47be-a45f-c5a302282892",
   "metadata": {},
   "outputs": [
    {
     "data": {
      "image/png": "[encoded data removed]",
      "text/plain": [
       "<Figure size 432x288 with 1 Axes>"
      ]
     },
     "metadata": {
      "needs_background": "light"
     },
     "output_type": "display_data"
    }
   ],
   "source": [
    "for ii in range(n_outputs):\n",
    "    plt.plot(40*time_eval, approximated_data, label=\"Approximated\")\n",
    "    plt.plot(40*time_eval, u_data, label=\"Exact\")\n",
    "    plt.xlabel(\"t\")\n",
    "    plt.ylabel(f\"{output_labels[ii]}\")\n",
    "    plt.legend()\n",
    "    plt.show()"
   ]
  },
  {
   "cell_type": "code",
   "execution_count": 23,
   "id": "83fb7b07-04ba-4038-b654-288b870da360",
   "metadata": {},
   "outputs": [
    {
     "data": {
      "image/png": "[encoded data removed]",
      "text/plain": [
       "<Figure size 432x288 with 1 Axes>"
      ]
     },
     "metadata": {
      "needs_background": "light"
     },
     "output_type": "display_data"
    }
   ],
   "source": [
    "for ii in range(n_outputs):\n",
    "    plt.plot(40*time_eval, approximated_data, label=\"Approximated\")\n",
    "    plt.plot(40*time_eval, u_data, label=\"Exact\")\n",
    "    plt.xlabel(\"t\")\n",
    "    plt.ylabel(f\"{output_labels[ii]}\")\n",
    "    plt.xlim(5,40)\n",
    "    plt.ylim(0, 0.02)\n",
    "    plt.legend()\n",
    "    plt.show()"
   ]
  },
  {
   "cell_type": "code",
   "execution_count": null,
   "id": "dbd93aee-1137-4fb3-872f-78945209cdb5",
   "metadata": {},
   "outputs": [],
   "source": []
  }
 ],
 "metadata": {
  "kernelspec": {
   "display_name": "Python 3 (ipykernel)",
   "language": "python",
   "name": "python3"
  },
  "language_info": {
   "codemirror_mode": {
    "name": "ipython",
    "version": 3
   },
   "file_extension": ".py",
   "mimetype": "text/x-python",
   "name": "python",
   "nbconvert_exporter": "python",
   "pygments_lexer": "ipython3",
   "version": "3.9.1"
  }
 },
 "nbformat": 4,
 "nbformat_minor": 5
}
