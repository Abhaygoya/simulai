{
    "cells": [
        {
            "cell_type": "code",
            "metadata": {},
            "source": [
                "# (C) Copyright IBM Corp. 2019, 2020, 2021, 2022.\n",
                "\n",
                "#    Licensed under the Apache License, Version 2.0 (the \"License\");\n",
                "#    you may not use this file except in compliance with the License.\n",
                "#    You may obtain a copy of the License at\n",
                "\n",
                "#           http://www.apache.org/licenses/LICENSE-2.0\n",
                "\n",
                "#     Unless required by applicable law or agreed to in writing, software\n",
                "#     distributed under the License is distributed on an \"AS IS\" BASIS,\n",
                "#     WITHOUT WARRANTIES OR CONDITIONS OF ANY KIND, either express or implied.\n",
                "#     See the License for the specific language governing permissions and\n",
                "#     limitations under the License.\n"
            ]
        },
        {
            "cell_type": "code",
            "execution_count": 2,
            "id": "00bafe55-3a9c-40f1-8814-db41f32f2fc7",
            "metadata": {},
            "outputs": [],
            "source": [
                "import numpy as np\n",
                "import torch\n",
                "import matplotlib.pyplot as plt"
            ]
        },
        {
            "cell_type": "code",
            "execution_count": 3,
            "id": "5907ea99-6f92-4853-9290-66a5ba80cb37",
            "metadata": {},
            "outputs": [],
            "source": [
                "from simulai.regression import DenseNetwork\n",
                "from simulai.optimization import Optimizer\n",
                "from simulai.residuals import SymbolicOperator"
            ]
        },
        {
            "cell_type": "markdown",
            "id": "be2f1ccc-fe45-4bad-8c10-da1a90725db7",
            "metadata": {},
            "source": [
                "#### Viscous Burgers with null Dirichlet at the boundaries."
            ]
        },
        {
            "cell_type": "code",
            "execution_count": 3,
            "id": "a5ab3375-c319-4feb-85fb-7351ce6bdba4",
            "metadata": {},
            "outputs": [],
            "source": [
                "f = 'D(u, t) + (1 / 2) * D(u ** 2, x) - mu*D(D(u, x), x)'\n",
                "g_u = 'u'\n",
                "g_l = 'u'\n",
                "\n",
                "input_labels = ['x', 't']\n",
                "output_labels = ['u']\n",
                "\n",
                "n_inputs = len(input_labels)\n",
                "n_outputs = len(output_labels)"
            ]
        },
        {
            "cell_type": "markdown",
            "id": "f02d2299-25ae-4ea1-8c5f-98ce1b570616",
            "metadata": {},
            "source": [
                "#### Dimensions and field properties."
            ]
        },
        {
            "cell_type": "code",
            "execution_count": 4,
            "id": "feab37c4-32c1-400a-a6fa-7a6da47a21bc",
            "metadata": {},
            "outputs": [],
            "source": [
                "X_DIM = 10\n",
                "T_DIM = 20\n",
                "L = 1.0\n",
                "x_0 = -1.0\n",
                "T = 1\n",
                "u0 = -1"
            ]
        },
        {
            "cell_type": "markdown",
            "id": "7abf2c5b-d243-4659-9ace-8b514ada47ed",
            "metadata": {},
            "source": [
                "#### Number of epochs for the BBI optimizer."
            ]
        },
        {
            "cell_type": "code",
            "execution_count": 5,
            "id": "f1eec61e-0eee-433c-975a-07072eb916ce",
            "metadata": {},
            "outputs": [],
            "source": [
                "n_epochs = 10_000  # Maximum number of iterations for ADAM"
            ]
        },
        {
            "cell_type": "markdown",
            "id": "f4f456fc-c378-46de-8c73-4c14bb044e20",
            "metadata": {},
            "source": [
                "#### Constructing the regular grid."
            ]
        },
        {
            "cell_type": "code",
            "execution_count": 6,
            "id": "3b8a776b-3e2c-49a5-a736-32836d51af98",
            "metadata": {},
            "outputs": [],
            "source": [
                "x_interval = [x_0, L]\n",
                "t_interval = [0, T]\n",
                "\n",
                "intervals = [x_interval, t_interval]\n",
                "\n",
                "x_0, x_L = x_interval\n",
                "t_0, t_L = t_interval\n",
                "dx = (x_L - x_0) / X_DIM\n",
                "dt = (t_L - t_0) / T_DIM\n",
                "\n",
                "grid = np.mgrid[t_0+dt:t_L+dt:dt, x_0+dx:x_L-dx/2:dx]\n",
                "\n",
                "data = np.hstack([grid[1].flatten()[:, None],\n",
                "                  grid[0].flatten()[:, None]])"
            ]
        },
        {
            "cell_type": "markdown",
            "id": "ae51f27b-2534-4f18-91aa-6f98e9573ed1",
            "metadata": {},
            "source": [
                "#### Initial state."
            ]
        },
        {
            "cell_type": "code",
            "execution_count": 7,
            "id": "4c02a761-d7f6-4895-abc2-96e1daaa058b",
            "metadata": {},
            "outputs": [],
            "source": [
                "data_init = np.linspace(*x_interval, 10*X_DIM)\n",
                "\n",
                "u_init = u0 * np.sin(np.pi * data_init)[:, None]"
            ]
        },
        {
            "cell_type": "markdown",
            "id": "2d4670ea-7092-4597-a48f-39d83d54eb67",
            "metadata": {},
            "source": [
                "#### Boundaries."
            ]
        },
        {
            "cell_type": "code",
            "execution_count": 8,
            "id": "4405c38a-3f76-4669-bfc9-16b7d1a8dc94",
            "metadata": {},
            "outputs": [],
            "source": [
                "data_boundary_x0 = np.hstack([x_interval[0] * np.ones((T_DIM, 1)),\n",
                "                                      np.linspace(*t_interval, T_DIM)[:, None]])\n",
                "\n",
                "data_boundary_xL = np.hstack([x_interval[-1] * np.ones((T_DIM, 1)),\n",
                "                              np.linspace(*t_interval, T_DIM)[:, None]])\n",
                "\n",
                "data_boundary_t0 = np.hstack([np.linspace(*x_interval, 10*X_DIM)[:, None],\n",
                "                              t_interval[0] * np.ones((10*X_DIM, 1))])"
            ]
        },
        {
            "cell_type": "markdown",
            "id": "0a9a241c-a728-48a3-94b4-29a2fad05838",
            "metadata": {},
            "source": [
                "#### Visualizing domain and boundaries."
            ]
        },
        {
            "cell_type": "code",
            "execution_count": 9,
            "id": "a5999618-e007-4460-ab17-bc614d801b79",
            "metadata": {},
            "outputs": [
                {
                    "data": {
                        "image/png": "[encoded data removed]",
                        "text/plain": [
                            "<Figure size 640x480 with 1 Axes>"
                        ]
                    },
                    "metadata": {},
                    "output_type": "display_data"
                }
            ],
            "source": [
                "plt.scatter(*np.split(data[::], 2, axis=1), s=3)\n",
                "plt.scatter(*np.split(data_boundary_x0, 2, axis=1), s=3)\n",
                "plt.scatter(*np.split(data_boundary_xL, 2, axis=1), s=3)\n",
                "plt.scatter(*np.split(data_boundary_t0, 2, axis=1), s=3)\n",
                "plt.xlabel('x (m)')\n",
                "plt.ylabel('t (s)')\n",
                "\n",
                "plt.show()\n",
                "plt.close()"
            ]
        },
        {
            "cell_type": "markdown",
            "id": "8f545ab2-013d-496c-84dd-4f48e5a2f35a",
            "metadata": {
                "tags": []
            },
            "source": [
                "#### Configuration for the fully-connected network used as approximator."
            ]
        },
        {
            "cell_type": "code",
            "execution_count": 10,
            "id": "efcfa1e5-8814-454b-ad9b-e68714bef910",
            "metadata": {},
            "outputs": [
                {
                    "name": "stdout",
                    "output_type": "stream",
                    "text": [
                        "Summary of the network properties:\n",
                        "Linear operations layers:\n",
                        "\n",
                        "[ Linear(in_features=2, out_features=50, bias=True),\n",
                        "  Linear(in_features=50, out_features=50, bias=True),\n",
                        "  Linear(in_features=50, out_features=50, bias=True),\n",
                        "  Linear(in_features=50, out_features=50, bias=True),\n",
                        "  Linear(in_features=50, out_features=1, bias=True)]\n",
                        "\n",
                        "\n",
                        "Activations layers:\n",
                        "\n",
                        "['tanh', 'tanh', 'tanh', 'tanh', 'identity']\n",
                        "\n",
                        "\n",
                        "Initializations at each layer:\n",
                        "\n",
                        "['xavier', 'xavier', 'xavier', 'xavier', 'xavier']\n"
                    ]
                }
            ],
            "source": [
                "config = {\n",
                "            'layers_units': [50, 50, 50, 50],\n",
                "            'activations': 'tanh',\n",
                "            'input_size': n_inputs,\n",
                "            'output_size': n_outputs,\n",
                "            'name': 'burgers_net'\n",
                "         }\n",
                "\n",
                "net = DenseNetwork(**config)\n",
                "net.summary()"
            ]
        },
        {
            "cell_type": "markdown",
            "id": "3329b50b-96fb-43c4-bab6-60daf54e6b76",
            "metadata": {},
            "source": [
                "#### Instantiating the symbolic residual evaluator."
            ]
        },
        {
            "cell_type": "code",
            "execution_count": 11,
            "id": "4793b3cc-37c8-47e5-a9f6-94ea215a1b2c",
            "metadata": {},
            "outputs": [
                {
                    "name": "stdout",
                    "output_type": "stream",
                    "text": [
                        "Using CPU.\n"
                    ]
                }
            ],
            "source": [
                "residual = SymbolicOperator(expressions=[f], input_vars=input_labels,\n",
                "                            auxiliary_expressions={'upper': g_u, 'lower': g_l},\n",
                "                            constants={'mu': 0.01/np.pi},\n",
                "                            output_vars=output_labels, function=net,\n",
                "                            engine='torch')"
            ]
        },
        {
            "cell_type": "markdown",
            "id": "58dad9d8-42dc-4885-b222-0b6c71ea7ed4",
            "metadata": {},
            "source": [
                "#### Optimizer instantiation."
            ]
        },
        {
            "cell_type": "code",
            "execution_count": 12,
            "id": "007ece0f-e889-4ee4-96b4-529653524aac",
            "metadata": {},
            "outputs": [
                {
                    "name": "stdout",
                    "output_type": "stream",
                    "text": [
                        "Optimizer bbi not found in <module 'torch.optim' from '/home/jalmeida/.conda/envs/appsimulai/lib/python3.7/site-packages/torch/optim/__init__.py'>.\n",
                        "Optimizer bbi found in <module 'simulai.optimization._builtin_pytorch' from '/home/jalmeida/Projetos/simulai/simulai/optimization/_builtin_pytorch.py'>.\n"
                    ]
                }
            ],
            "source": [
                "optimizer_config = {'lr' : 1e-2,\n",
                "                    'threshold0' : 20,\n",
                "                    'threshold' : 100,\n",
                "                    'v0' : 1e-4,\n",
                "                    'n_fixed_bounces' : 4, 'consEn' : True}\n",
                "\n",
                "optimizer = Optimizer('bbi', params=optimizer_config)"
            ]
        },
        {
            "cell_type": "markdown",
            "id": "5cd55ec9-6304-4fd4-af78-ddc6ebf8e297",
            "metadata": {},
            "source": [
                "#### Dictionary for communicating problem configurations to the optimizer."
            ]
        },
        {
            "cell_type": "code",
            "execution_count": 13,
            "id": "3911de19-83a6-497f-b81e-7700902faa54",
            "metadata": {},
            "outputs": [],
            "source": [
                "params = {'residual': residual,\n",
                "          'initial_input': data_boundary_t0,\n",
                "          'initial_state': u_init,\n",
                "          'boundary_input': {'upper': data_boundary_xL, 'lower': data_boundary_x0},\n",
                "          'boundary_penalties': [1, 1],\n",
                "          'initial_penalty': 10}"
            ]
        },
        {
            "cell_type": "markdown",
            "id": "892778c1-1336-457e-8e4b-a9215dfca34c",
            "metadata": {},
            "source": [
                "#### Executing the fitting process. "
            ]
        },
        {
            "cell_type": "code",
            "execution_count": null,
            "id": "5e53b78b-c357-4772-9468-f687517bf03b",
            "metadata": {},
            "outputs": [
                {
                    "name": "stdout",
                    "output_type": "stream",
                    "text": [
                        "Using CPU.\n",
                        "pde: 0.0012104444904252887, init: 2.084399966406636e-05, bound: 0.00024108676007017493 , causality_weights: (1e-25, 0))"
                    ]
                }
            ],
            "source": [
                " optimizer.fit(op=net, input_data=data,\n",
                "               n_epochs=n_epochs, loss=\"pirmse\", params=params)"
            ]
        },
        {
            "cell_type": "markdown",
            "id": "f58fbac4-b2ac-4700-ae67-b8d362d23678",
            "metadata": {},
            "source": [
                "#### Mesh used for the final evaluation."
            ]
        },
        {
            "cell_type": "code",
            "execution_count": null,
            "id": "e68390b7-069f-438f-8fe5-3e04a7664e07",
            "metadata": {},
            "outputs": [],
            "source": [
                "X_DIM_F = 50 * X_DIM\n",
                "T_DIM_F = 50 * T_DIM\n",
                "\n",
                "x_f = np.linspace(*x_interval, X_DIM_F)\n",
                "t_f = np.linspace(*t_interval, T_DIM_F)\n",
                "\n",
                "T_f, X_f = np.meshgrid(t_f, x_f, indexing='ij')\n",
                "\n",
                "data_f = np.hstack([X_f.flatten()[:, None],\n",
                "                    T_f.flatten()[:, None]])"
            ]
        },
        {
            "cell_type": "markdown",
            "id": "88890edc-8de3-4954-95fd-45e0bebc8e38",
            "metadata": {},
            "source": [
                "#### Evaluating using the trained model. "
            ]
        },
        {
            "cell_type": "code",
            "execution_count": null,
            "id": "2863f6f9-505e-4fe7-af56-243d124a1a4c",
            "metadata": {},
            "outputs": [],
            "source": [
                "approximated_data = net.eval(input_data=data_f)"
            ]
        },
        {
            "cell_type": "markdown",
            "id": "ff033c86-5777-4601-a95b-925ba1642989",
            "metadata": {},
            "source": [
                "#### 2D plots."
            ]
        },
        {
            "cell_type": "code",
            "execution_count": null,
            "id": "fbbc149c-f879-4ef7-968b-55565d9b824c",
            "metadata": {},
            "outputs": [],
            "source": [
                "U_f = approximated_data.reshape(T_DIM_F, X_DIM_F)\n",
                "\n",
                "fig, ax = plt.subplots()\n",
                "ax.set_aspect('auto')\n",
                "gf = ax.pcolormesh(X_f, T_f, U_f, cmap='jet')\n",
                "fig.colorbar(gf)\n",
                "\n",
                "plt.show()"
            ]
        },
        {
            "cell_type": "markdown",
            "id": "cb367301-7622-4653-a885-88249aa8835d",
            "metadata": {},
            "source": [
                "#### 1D plots. "
            ]
        },
        {
            "cell_type": "code",
            "execution_count": null,
            "id": "445ff7bd-4809-4f5e-9158-4405586a2df0",
            "metadata": {},
            "outputs": [],
            "source": [
                "snapshots_ids = np.arange(0, T_DIM_F, 10*T_DIM).astype('int')\n",
                "snapshots_ids[-1] = T_DIM_F - 1\n",
                "\n",
                "colors = ['red', 'blue', 'orange', 'green', 'black']\n",
                "\n",
                "for i, s in enumerate(snapshots_ids):\n",
                "    \n",
                "    plt.plot(x_f, U_f[s, :], label=f'{s/T_DIM_F} s', c=colors[i], ls='--')\n",
                "\n",
                "plt.plot(data_init, u_init, label='initial ground truth')\n",
                "plt.grid(True)\n",
                "plt.legend()\n",
                "plt.show()"
            ]
        }
    ],
    "metadata": {
        "kernelspec": {
            "display_name": "Python 3",
            "language": "python",
            "name": "python3"
        },
        "language_info": {
            "codemirror_mode": {
                "name": "ipython",
                "version": 3
            },
            "file_extension": ".py",
            "mimetype": "text/x-python",
            "name": "python",
            "nbconvert_exporter": "python",
            "pygments_lexer": "ipython3",
            "version": "3.7.7"
        }
    },
    "nbformat": 4,
    "nbformat_minor": 5
}