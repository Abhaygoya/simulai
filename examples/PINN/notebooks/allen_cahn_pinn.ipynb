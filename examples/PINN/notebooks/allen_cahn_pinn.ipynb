{
 "cells": [
  {
   "cell_type": "code",
   "execution_count": 1,
   "id": "e8606046-251e-4f5c-ad7b-c4c764303ffa",
   "metadata": {},
   "outputs": [],
   "source": [
    "# (C) Copyright IBM Corp. 2019, 2020, 2021, 2022.\n",
    "\n",
    "#    Licensed under the Apache License, Version 2.0 (the \"License\");\n",
    "#    you may not use this file except in compliance with the License.\n",
    "#    You may obtain a copy of the License at\n",
    "\n",
    "#           http://www.apache.org/licenses/LICENSE-2.0\n",
    "\n",
    "#     Unless required by applicable law or agreed to in writing, software\n",
    "#     distributed under the License is distributed on an \"AS IS\" BASIS,\n",
    "#     WITHOUT WARRANTIES OR CONDITIONS OF ANY KIND, either express or implied.\n",
    "#     See the License for the specific language governing permissions and\n",
    "#     limitations under the License."
   ]
  },
  {
   "cell_type": "code",
   "execution_count": 2,
   "id": "5cd82226-41ab-4407-af54-b6c1479a6d17",
   "metadata": {},
   "outputs": [],
   "source": [
    "import numpy as np\n",
    "import matplotlib.pyplot as plt\n",
    "\n",
    "from simulai.regression import DenseNetwork, ModalRBFNetwork\n",
    "from simulai.optimization import Optimizer\n",
    "from simulai.residuals import SymbolicOperator\n",
    "from simulai.file import SPFile"
   ]
  },
  {
   "cell_type": "markdown",
   "id": "35bf21b9-6f95-4729-8e58-35149ca9d554",
   "metadata": {},
   "source": [
    "#### Our PDE:\n",
    "#### Allen-Cahn equation."
   ]
  },
  {
   "cell_type": "code",
   "execution_count": 3,
   "id": "4149e442-47f1-4bf1-973d-42b8cde405fb",
   "metadata": {},
   "outputs": [],
   "source": [
    "f = 'D(u, t) - mu*D(D(u, x), x) + alpha*(u**3) + beta*u'\n",
    "\n",
    "g_u = 'u'\n",
    "g_ux = 'D(u, x)'\n",
    "\n",
    "input_labels = ['x', 't']\n",
    "output_labels = ['u']"
   ]
  },
  {
   "cell_type": "markdown",
   "id": "43017993-19d4-4d67-b9c8-1537372b1d39",
   "metadata": {},
   "source": [
    "#### Some fixed values."
   ]
  },
  {
   "cell_type": "code",
   "execution_count": 4,
   "id": "58ee25ad-d798-4d83-9180-756dbdfd0e59",
   "metadata": {},
   "outputs": [],
   "source": [
    "X_DIM = 256\n",
    "T_DIM = 100\n",
    "\n",
    "L = 1\n",
    "x_0 = -1\n",
    "T = 1"
   ]
  },
  {
   "cell_type": "markdown",
   "id": "dafdad02-eed2-4fea-913c-855878b2017c",
   "metadata": {},
   "source": [
    "#### Generating the training grid."
   ]
  },
  {
   "cell_type": "code",
   "execution_count": 5,
   "id": "64124093-d040-413d-b8b3-6a573a7ae761",
   "metadata": {},
   "outputs": [],
   "source": [
    "x_interval = [x_0, L]\n",
    "t_interval = [0, T]\n",
    "\n",
    "intervals = [x_interval, t_interval]\n",
    "\n",
    "intv_array = np.vstack(intervals).T\n",
    "\n",
    "# Regular grid\n",
    "x_0, x_L = x_interval\n",
    "t_0, t_L = t_interval\n",
    "dx = (x_L - x_0) / X_DIM\n",
    "dt = (t_L - t_0) / T_DIM\n",
    "\n",
    "grid = np.mgrid[t_0+dt:t_L+dt:dt, x_0:x_L:dx]\n",
    "\n",
    "data = np.hstack([grid[1].flatten()[:, None],\n",
    "                  grid[0].flatten()[:, None]])\n",
    "\n",
    "data_init = np.linspace(*x_interval, X_DIM)\n",
    "u_init = (data_init**2)*np.cos(np.pi * data_init)[:, None]\n",
    "\n",
    "# Boundary grids\n",
    "data_boundary_x0 = np.hstack([x_interval[0] * np.ones((T_DIM, 1)),\n",
    "                              np.linspace(*t_interval, T_DIM)[:, None]])\n",
    "\n",
    "data_boundary_xL = np.hstack([x_interval[-1] * np.ones((T_DIM, 1)),\n",
    "                              np.linspace(*t_interval, T_DIM)[:, None]])\n",
    "\n",
    "data_boundary_t0 = np.hstack([np.linspace(*x_interval, X_DIM)[:, None],\n",
    "                              t_interval[0] * np.ones((X_DIM, 1))])"
   ]
  },
  {
   "cell_type": "markdown",
   "id": "7b6ad99d-e125-40d5-9ef2-72fbb384aee3",
   "metadata": {},
   "source": [
    "#### Visualizing the grid domain."
   ]
  },
  {
   "cell_type": "code",
   "execution_count": 6,
   "id": "1b589d96-34d5-4669-b09b-eb59d51f3255",
   "metadata": {},
   "outputs": [
    {
     "data": {
      "image/png": "[encoded data removed]",
      "text/plain": [
       "<Figure size 432x288 with 1 Axes>"
      ]
     },
     "metadata": {
      "needs_background": "light"
     },
     "output_type": "display_data"
    }
   ],
   "source": [
    "plt.scatter(*np.split(data, 2, axis=1))\n",
    "plt.scatter(*np.split(data_boundary_x0, 2, axis=1))\n",
    "plt.scatter(*np.split(data_boundary_xL, 2, axis=1))\n",
    "plt.scatter(*np.split(data_boundary_t0, 2, axis=1))\n",
    "\n",
    "plt.show()\n",
    "plt.close()"
   ]
  },
  {
   "cell_type": "code",
   "execution_count": 7,
   "id": "84024f9e-70c2-47b6-8483-78bb733bef35",
   "metadata": {},
   "outputs": [],
   "source": [
    "#### Model template."
   ]
  },
  {
   "cell_type": "code",
   "execution_count": 8,
   "id": "2cd2a3c3-4547-4d44-9f5c-6c5940ca32c6",
   "metadata": {},
   "outputs": [],
   "source": [
    "def model():\n",
    "\n",
    "    from simulai.regression import DenseNetwork\n",
    "    \n",
    "    n_inputs = len(input_labels)\n",
    "    n_outputs = len(output_labels)\n",
    "\n",
    "    # Configuration for the fully-connected network\n",
    "    config = {\n",
    "                'layers_units': [128, 128, 128, 128],\n",
    "                'activations': 'tanh',\n",
    "                'input_size': n_inputs,\n",
    "                'output_size': n_outputs,\n",
    "                'name': 'allen_cahn_net'\n",
    "             }\n",
    "\n",
    "    # Instantiating and training the surrogate model\n",
    "    net = DenseNetwork(**config)\n",
    "\n",
    "    return net"
   ]
  },
  {
   "cell_type": "markdown",
   "id": "7e71f15e-de7d-4897-8956-7f2f622495dd",
   "metadata": {},
   "source": [
    "#### Intantiating neural net."
   ]
  },
  {
   "cell_type": "code",
   "execution_count": 9,
   "id": "035db069-8eca-4890-852c-c2cf198f58b0",
   "metadata": {},
   "outputs": [
    {
     "name": "stdout",
     "output_type": "stream",
     "text": [
      "Summary of the network properties:\n",
      "Linear operations layers:\n",
      "\n",
      "[ Linear(in_features=2, out_features=128, bias=True),\n",
      "  Linear(in_features=128, out_features=128, bias=True),\n",
      "  Linear(in_features=128, out_features=128, bias=True),\n",
      "  Linear(in_features=128, out_features=128, bias=True),\n",
      "  Linear(in_features=128, out_features=1, bias=True)]\n",
      "\n",
      "\n",
      "Activations layers:\n",
      "\n",
      "['tanh', 'tanh', 'tanh', 'tanh', 'identity']\n",
      "\n",
      "\n",
      "Initializations at each layer:\n",
      "\n",
      "['xavier', 'xavier', 'xavier', 'xavier', 'xavier']\n"
     ]
    }
   ],
   "source": [
    "net = model()\n",
    "net.summary()"
   ]
  },
  {
   "cell_type": "markdown",
   "id": "bf3984a3-15a0-4cb8-bdfa-cb1a3124a2b5",
   "metadata": {},
   "source": [
    "#### Constructor for the PINN symbolic residual."
   ]
  },
  {
   "cell_type": "code",
   "execution_count": 10,
   "id": "4764910b-6f2c-44a8-a6dd-b80bad4ca7e1",
   "metadata": {},
   "outputs": [
    {
     "name": "stdout",
     "output_type": "stream",
     "text": [
      "Warning: There is no GPU available, using CPU instead.\n"
     ]
    }
   ],
   "source": [
    "residual = SymbolicOperator(expressions=[f], input_vars=input_labels,\n",
    "                            auxiliary_expressions={'periodic_u': g_u, 'periodic_du': g_ux},\n",
    "                            constants={'mu':1e-4, 'alpha':5, 'beta':-5},\n",
    "                            output_vars=output_labels, function=net,\n",
    "                            engine='torch',\n",
    "                            device='gpu')"
   ]
  },
  {
   "cell_type": "markdown",
   "id": "6970928b-fc31-4627-b834-84977eed5c99",
   "metadata": {},
   "source": [
    "#### Configuring optimizer."
   ]
  },
  {
   "cell_type": "code",
   "execution_count": 11,
   "id": "81d724bd-65e5-4f0e-9b08-40f49698439a",
   "metadata": {},
   "outputs": [
    {
     "name": "stdout",
     "output_type": "stream",
     "text": [
      "Optimizer adam found in <module 'torch.optim' from '/home/jalmeida/.conda/envs/torchsimulaienv/lib/python3.9/site-packages/torch/optim/__init__.py'>.\n"
     ]
    }
   ],
   "source": [
    "n_epochs = 50_000  # Maximum number of iterations for ADAM\n",
    "lr = 1e-3  # Initial learning rate for the ADAM algorithm\n",
    "\n",
    "optimizer_config = {'lr': lr}\n",
    "\n",
    "\n",
    "optimizer = Optimizer('adam', params=optimizer_config,\n",
    "                      lr_decay_scheduler_params={'name': 'ExponentialLR',\n",
    "                                                         'gamma': 0.9,\n",
    "                                                         'decay_frequency': 5_000},\n",
    "                      shuffle=False,\n",
    "                      summary_writer=True)\n",
    "\n",
    "params = {'residual': residual,\n",
    "          'initial_input': data_boundary_t0,\n",
    "          'initial_state': u_init,\n",
    "          'boundary_input': {'periodic_u': [data_boundary_xL, data_boundary_x0],\n",
    "                             'periodic_du': [data_boundary_xL, data_boundary_x0]},\n",
    "          'boundary_penalties': [1, 1],\n",
    "          'initial_penalty': 100}"
   ]
  },
  {
   "cell_type": "markdown",
   "id": "c0d871bb-031c-46f3-9cd6-953b88af33db",
   "metadata": {},
   "source": [
    "#### Executing training."
   ]
  },
  {
   "cell_type": "code",
   "execution_count": 12,
   "id": "00e56087-8e0d-473a-85ca-c03e5d1fabc5",
   "metadata": {},
   "outputs": [
    {
     "name": "stdout",
     "output_type": "stream",
     "text": [
      "Warning: There is no GPU available, using CPU instead.\n",
      "Using LR decay <class 'torch.optim.lr_scheduler.ExponentialLR'>.\n",
      "pde: 1.3501198291778564, init: 0.2679139971733093, bound: 4.159900665283203 , causality_weights: (1e-25, 0))"
     ]
    }
   ],
   "source": [
    "optimizer.fit(op=net, input_data=data,\n",
    "              n_epochs=n_epochs, loss=\"pirmse\", params=params, device='gpu')"
   ]
  },
  {
   "cell_type": "markdown",
   "id": "ecdfa7dd-7860-47a0-b81e-a499f1a58b6c",
   "metadata": {},
   "source": [
    "#### Saving trained model."
   ]
  },
  {
   "cell_type": "code",
   "execution_count": 13,
   "id": "c0e99e49-c767-4232-8ec9-9a7567aee9ea",
   "metadata": {},
   "outputs": [],
   "source": [
    "saver = SPFile(compact=False)\n",
    "saver.write(save_dir='.', name='allen_cahn_net', model=net, template=model)"
   ]
  },
  {
   "cell_type": "markdown",
   "id": "b47935cf-9a25-4a52-8f91-c86240a78618",
   "metadata": {},
   "source": [
    "#### Generating results using the trained model."
   ]
  },
  {
   "cell_type": "code",
   "execution_count": 14,
   "id": "4288daf2-491c-4020-8e76-dc24b4493d42",
   "metadata": {},
   "outputs": [
    {
     "data": {
      "text/plain": [
       "<matplotlib.colorbar.Colorbar at 0x7fa11a4557c0>"
      ]
     },
     "execution_count": 14,
     "metadata": {},
     "output_type": "execute_result"
    },
    {
     "data": {
      "image/png": "[encoded data removed]",
      "text/plain": [
       "<Figure size 432x288 with 2 Axes>"
      ]
     },
     "metadata": {
      "needs_background": "light"
     },
     "output_type": "display_data"
    }
   ],
   "source": [
    "# Evaluation and post-processing\n",
    "X_DIM_F = 5 * X_DIM\n",
    "T_DIM_F = 5 * T_DIM\n",
    "\n",
    "x_f = np.linspace(*x_interval, X_DIM_F)\n",
    "t_f = np.linspace(*t_interval, T_DIM_F)\n",
    "\n",
    "T_f, X_f = np.meshgrid(t_f, x_f, indexing='ij')\n",
    "\n",
    "data_f = np.hstack([X_f.flatten()[:, None],\n",
    "                    T_f.flatten()[:, None]])\n",
    "\n",
    "# Evaluation in training dataset\n",
    "approximated_data = net.cpu().eval(input_data=data_f)\n",
    "\n",
    "U_f = approximated_data.reshape(T_DIM_F, X_DIM_F)\n",
    "\n",
    "fig, ax = plt.subplots()\n",
    "ax.set_aspect('auto')\n",
    "gf = ax.pcolormesh(X_f, T_f, U_f, cmap='jet')\n",
    "fig.colorbar(gf)"
   ]
  }
 ],
 "metadata": {
  "kernelspec": {
   "display_name": "Python 3 (ipykernel)",
   "language": "python",
   "name": "python3"
  },
  "language_info": {
   "codemirror_mode": {
    "name": "ipython",
    "version": 3
   },
   "file_extension": ".py",
   "mimetype": "text/x-python",
   "name": "python",
   "nbconvert_exporter": "python",
   "pygments_lexer": "ipython3",
   "version": "3.9.1"
  }
 },
 "nbformat": 4,
 "nbformat_minor": 5
}
