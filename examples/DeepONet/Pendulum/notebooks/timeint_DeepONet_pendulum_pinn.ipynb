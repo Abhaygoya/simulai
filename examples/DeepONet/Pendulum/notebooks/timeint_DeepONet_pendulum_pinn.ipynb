{
 "cells": [
  {
   "cell_type": "code",
   "execution_count": 1,
   "metadata": {},
   "outputs": [],
   "source": [
    "# (C) Copyright IBM Corp. 2019, 2020, 2021, 2022.\n",
    "\n",
    "#    Licensed under the Apache License, Version 2.0 (the \"License\");\n",
    "#    you may not use this file except in compliance with the License.\n",
    "#    You may obtain a copy of the License at\n",
    "\n",
    "#           http://www.apache.org/licenses/LICENSE-2.0\n",
    "\n",
    "#     Unless required by applicable law or agreed to in writing, software\n",
    "#     distributed under the License is distributed on an \"AS IS\" BASIS,\n",
    "#     WITHOUT WARRANTIES OR CONDITIONS OF ANY KIND, either express or implied.\n",
    "#     See the License for the specific language governing permissions and\n",
    "#     limitations under the License."
   ]
  },
  {
   "cell_type": "code",
   "execution_count": null,
   "metadata": {},
   "outputs": [],
   "source": [
    "import os\n",
    "from argparse import ArgumentParser"
   ]
  },
  {
   "cell_type": "code",
   "execution_count": null,
   "metadata": {},
   "outputs": [],
   "source": [
    "import matplotlib.pyplot as plt\n",
    "import numpy as np"
   ]
  },
  {
   "cell_type": "code",
   "execution_count": null,
   "metadata": {},
   "outputs": [],
   "source": [
    "from simulai.file import SPFile\n",
    "from simulai.optimization import Optimizer\n",
    "from simulai.residuals import SymbolicOperator"
   ]
  },
  {
   "cell_type": "code",
   "execution_count": null,
   "metadata": {},
   "outputs": [],
   "source": [
    "save_path = '.'"
   ]
  },
  {
   "cell_type": "code",
   "execution_count": null,
   "metadata": {},
   "outputs": [],
   "source": [
    "Q = 1_000\n",
    "N = int(5e4)"
   ]
  },
  {
   "cell_type": "code",
   "execution_count": null,
   "metadata": {},
   "outputs": [],
   "source": [
    "initial_state_test = np.array([1, 1])"
   ]
  },
  {
   "cell_type": "code",
   "execution_count": null,
   "metadata": {},
   "outputs": [],
   "source": [
    "t_intv = [0, 1]\n",
    "s_intv = np.stack([[-6, -6], [6, 6]], axis=0)"
   ]
  },
  {
   "cell_type": "markdown",
   "metadata": {},
   "source": [
    "#### The system of equations we aim at solving."
   ]
  },
  {
   "cell_type": "code",
   "execution_count": null,
   "metadata": {},
   "outputs": [],
   "source": [
    "f_s1 = \"D(s1, t) - s2\"\n",
    "f_s2 = \"D(s2, t) + b*s2/m + g*sin(s1)/L\""
   ]
  },
  {
   "cell_type": "code",
   "execution_count": null,
   "metadata": {},
   "outputs": [],
   "source": [
    "U_t = np.random.uniform(low=t_intv[0], high=t_intv[1], size=Q)\n",
    "U_s = np.random.uniform(low=s_intv[0], high=s_intv[1], size=(N, 2))"
   ]
  },
  {
   "cell_type": "code",
   "execution_count": null,
   "metadata": {},
   "outputs": [],
   "source": [
    "np.save(\"initial_states.npy\", U_s)"
   ]
  },
  {
   "cell_type": "code",
   "execution_count": null,
   "metadata": {},
   "outputs": [],
   "source": [
    "branch_input_train = np.tile(U_s[:, None, :], (1, Q, 1)).reshape(N * Q, -1)\n",
    "trunk_input_train = np.tile(U_t[:, None], (N, 1))"
   ]
  },
  {
   "cell_type": "code",
   "execution_count": null,
   "metadata": {},
   "outputs": [],
   "source": [
    "branch_input_test = np.tile(initial_state_test[None, :], (Q, 1))\n",
    "trunk_input_test = np.sort(U_t[:, None], axis=0)"
   ]
  },
  {
   "cell_type": "code",
   "execution_count": null,
   "metadata": {},
   "outputs": [],
   "source": [
    "initial_states = U_s"
   ]
  },
  {
   "cell_type": "code",
   "execution_count": null,
   "metadata": {},
   "outputs": [],
   "source": [
    "input_labels = [\"t\"]\n",
    "output_labels = [\"s1\", \"s2\"]"
   ]
  },
  {
   "cell_type": "code",
   "execution_count": null,
   "metadata": {},
   "outputs": [],
   "source": [
    "n_inputs = len(input_labels)\n",
    "n_outputs = len(output_labels)"
   ]
  },
  {
   "cell_type": "code",
   "execution_count": null,
   "metadata": {},
   "outputs": [],
   "source": [
    "lambda_1 = 0.0  # Penalty for the L¹ regularization (Lasso)\n",
    "lambda_2 = 0.0  # Penalty factor for the L² regularization\n",
    "n_epochs = 300_000  # Maximum number of iterations for ADAM\n",
    "lr = 1e-3  # Initial learning rate for the ADAM algorithm"
   ]
  },
  {
   "cell_type": "code",
   "execution_count": null,
   "metadata": {},
   "outputs": [],
   "source": [
    "def model():\n",
    "    \n",
    "    import numpy as np\n",
    "\n",
    "    from simulai.models import DeepONet, ImprovedDenseNetwork\n",
    "    from simulai.regression import SLFNN, ConvexDenseNetwork\n",
    "\n",
    "    n_latent = 100\n",
    "    n_inputs_b = 2\n",
    "    n_inputs_t = 1\n",
    "    n_outputs = 2\n",
    "\n",
    "    # Configuration for the fully-connected trunk network\n",
    "    trunk_config = {\n",
    "        \"layers_units\": 7 * [100],  # Hidden layers\n",
    "        \"activations\": \"tanh\",\n",
    "        \"input_size\": n_inputs_t,\n",
    "        \"output_size\": n_latent * n_outputs,\n",
    "        \"name\": \"trunk_net\",\n",
    "    }\n",
    "\n",
    "    # Configuration for the fully-connected branch network\n",
    "    branch_config = {\n",
    "        \"layers_units\": 7 * [100],  # Hidden layers\n",
    "        \"activations\": \"tanh\",\n",
    "        \"input_size\": n_inputs_b,\n",
    "        \"output_size\": n_latent * n_outputs,\n",
    "        \"name\": \"branch_net\",\n",
    "    }\n",
    "\n",
    "    encoder_u_trunk = SLFNN(input_size=n_inputs_t, output_size=100, activation=\"tanh\")\n",
    "    encoder_v_trunk = SLFNN(input_size=n_inputs_t, output_size=100, activation=\"tanh\")\n",
    "    encoder_u_branch = SLFNN(input_size=n_inputs_b, output_size=100, activation=\"tanh\")\n",
    "    encoder_v_branch = SLFNN(input_size=n_inputs_b, output_size=100, activation=\"tanh\")\n",
    "\n",
    "    # Instantiating and training the surrogate model\n",
    "    trunk_net_dense = ConvexDenseNetwork(**trunk_config)\n",
    "    branch_net_dense = ConvexDenseNetwork(**branch_config)\n",
    "\n",
    "    trunk_net = ImprovedDenseNetwork(\n",
    "        network=trunk_net_dense, encoder_u=encoder_u_trunk, encoder_v=encoder_v_trunk\n",
    "    )\n",
    "\n",
    "    branch_net = ImprovedDenseNetwork(\n",
    "        network=branch_net_dense, encoder_u=encoder_u_branch, encoder_v=encoder_v_branch\n",
    "    )\n",
    "\n",
    "    # It prints a summary of the network features\n",
    "    trunk_net.summary()\n",
    "    branch_net.summary()\n",
    "\n",
    "    pendulum_net = DeepONet(\n",
    "        trunk_network=trunk_net,\n",
    "        branch_network=branch_net,\n",
    "        var_dim=n_outputs,\n",
    "        devices=\"gpu\",\n",
    "        model_id=\"pendulum_net\",\n",
    "    )\n",
    "\n",
    "    return pendulum_net\n"
   ]
  },
  {
   "cell_type": "code",
   "execution_count": null,
   "metadata": {},
   "outputs": [],
   "source": [
    "pendulum_net = model()"
   ]
  },
  {
   "cell_type": "code",
   "execution_count": null,
   "metadata": {},
   "outputs": [],
   "source": [
    "residual = SymbolicOperator(\n",
    "    expressions=[f_s1, f_s2],\n",
    "    input_vars=input_labels,\n",
    "    output_vars=output_labels,\n",
    "    function=pendulum_net,\n",
    "    inputs_key=\"input_trunk\",\n",
    "    constants={\"b\": 0.05, \"g\": 9.81, \"L\": 1, \"m\": 1},\n",
    "    device=\"gpu\",\n",
    "    engine=\"torch\",\n",
    ")"
   ]
  },
  {
   "cell_type": "markdown",
   "metadata": {},
   "source": [
    "Maximum derivative magnitudes to be used as loss weights"
   ]
  },
  {
   "cell_type": "code",
   "execution_count": null,
   "metadata": {},
   "outputs": [],
   "source": [
    "penalties = [1, 1]\n",
    "batch_size = 10_000"
   ]
  },
  {
   "cell_type": "code",
   "execution_count": null,
   "metadata": {},
   "outputs": [],
   "source": [
    "optimizer_config = {\"lr\": lr}"
   ]
  },
  {
   "cell_type": "code",
   "execution_count": null,
   "metadata": {},
   "outputs": [],
   "source": [
    "input_data = {\"input_branch\": branch_input_train, \"input_trunk\": trunk_input_train}"
   ]
  },
  {
   "cell_type": "code",
   "execution_count": null,
   "metadata": {},
   "outputs": [],
   "source": [
    "optimizer = Optimizer(\n",
    "    \"adam\",\n",
    "    params=optimizer_config,\n",
    "    lr_decay_scheduler_params={\n",
    "        \"name\": \"ExponentialLR\",\n",
    "        \"gamma\": 0.9,\n",
    "        \"decay_frequency\": 5_000,\n",
    "    },\n",
    ")"
   ]
  },
  {
   "cell_type": "code",
   "execution_count": null,
   "metadata": {},
   "outputs": [],
   "source": [
    "params = {\n",
    "    \"lambda_1\": lambda_1,\n",
    "    \"lambda_2\": lambda_2,\n",
    "    \"residual\": residual,\n",
    "    \"initial_input\": {\"input_trunk\": np.zeros((N, 1)), \"input_branch\": initial_states},\n",
    "    \"initial_state\": initial_states,\n",
    "    \"weights_residual\": [1, 1],\n",
    "    \"weights\": penalties,\n",
    "}"
   ]
  },
  {
   "cell_type": "code",
   "execution_count": null,
   "metadata": {},
   "outputs": [],
   "source": [
    "optimizer.fit(\n",
    "    op=pendulum_net,\n",
    "    input_data=input_data,\n",
    "    n_epochs=n_epochs,\n",
    "    loss=\"opirmse\",\n",
    "    params=params,\n",
    "    device=\"gpu\",\n",
    "    batch_size=batch_size,\n",
    ")"
   ]
  },
  {
   "cell_type": "markdown",
   "metadata": {},
   "source": [
    "Saving model"
   ]
  },
  {
   "cell_type": "code",
   "execution_count": null,
   "metadata": {},
   "outputs": [],
   "source": [
    "print(\"Saving model.\")\n",
    "saver = SPFile(compact=False)\n",
    "saver.write(\n",
    "    save_dir=save_path, name=\"pendulum_deeponet\", model=pendulum_net, template=model\n",
    ")"
   ]
  },
  {
   "cell_type": "code",
   "execution_count": null,
   "metadata": {},
   "outputs": [],
   "source": [
    "approximated_data = pendulum_net.eval(\n",
    "    trunk_data=trunk_input_test, branch_data=branch_input_test\n",
    ")"
   ]
  },
  {
   "cell_type": "code",
   "execution_count": null,
   "metadata": {},
   "outputs": [],
   "source": [
    "for ii in range(n_outputs):\n",
    "    plt.plot(approximated_data[:, ii], label=\"Approximated\")\n",
    "    plt.legend()\n",
    "    plt.savefig(f\"pendulum_deeponet_time_int_{ii}.png\")\n",
    "    plt.show()"
   ]
  }
 ],
 "metadata": {
  "kernelspec": {
   "display_name": "Python 3 (ipykernel)",
   "language": "python",
   "name": "python3"
  },
  "language_info": {
   "codemirror_mode": {
    "name": "ipython",
    "version": 3
   },
   "file_extension": ".py",
   "mimetype": "text/x-python",
   "name": "python",
   "nbconvert_exporter": "python",
   "pygments_lexer": "ipython3",
   "version": "3.9.1"
  }
 },
 "nbformat": 4,
 "nbformat_minor": 4
}
