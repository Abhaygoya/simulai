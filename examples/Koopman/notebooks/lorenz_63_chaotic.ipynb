{
    "cells": [
        {
            "cell_type": "code",
            "execution_count": null,
            "metadata": {},
            "outputs": [],
            "source": [
                "# (C) Copyright IBM Corp. 2019, 2020, 2021, 2022.\n",
                "\n",
                "#    Licensed under the Apache License, Version 2.0 (the \"License\");\n",
                "#    you may not use this file except in compliance with the License.\n",
                "#    You may obtain a copy of the License at\n",
                "\n",
                "#           http://www.apache.org/licenses/LICENSE-2.0\n",
                "\n",
                "#     Unless required by applicable law or agreed to in writing, software\n",
                "#     distributed under the License is distributed on an \"AS IS\" BASIS,\n",
                "#     WITHOUT WARRANTIES OR CONDITIONS OF ANY KIND, either express or implied.\n",
                "#     See the License for the specific language governing permissions and\n",
                "#     limitations under the License.\n"
            ]
        },
        {
            "cell_type": "code",
            "execution_count": null,
            "id": "veterinary-architecture",
            "metadata": {},
            "outputs": [],
            "source": [
                "import numpy as np\n",
                "import matplotlib.pyplot as plt\n",
                "import sys\n",
                "\n",
                "from simulai.utilities.lorenz_solver import lorenz_solver, lorenz_solver_forcing\n",
                "from simulai.utilities.oscillator_solver import oscillator_solver_forcing\n",
                "from simulai.regression import ExtendedOpInf\n",
                "from simulai.math.integration import RK4, LSODA, FunctionWrapper, ClassWrapper\n",
                "from simulai.metrics import LyapunovUnits"
            ]
        },
        {
            "cell_type": "markdown",
            "id": "ed47b4fe-fd0c-43f9-817d-63c725adae90",
            "metadata": {},
            "source": [
                "Global parameters."
            ]
        },
        {
            "cell_type": "code",
            "execution_count": null,
            "id": "35eb0d79-0f74-4daa-b023-3a900e4bf46b",
            "metadata": {},
            "outputs": [],
            "source": [
                "dt = 0.00025\n",
                "T_max = 100\n",
                "rho = 28\n",
                "beta = 8 / 3\n",
                "beta_str = '8/3'\n",
                "sigma = 10\n",
                "n_field = 3"
            ]
        },
        {
            "cell_type": "markdown",
            "id": "9f4f7e0d-0409-4997-b27b-6baf11d65378",
            "metadata": {},
            "source": [
                "Generating datasets."
            ]
        },
        {
            "cell_type": "code",
            "execution_count": null,
            "id": "f8667fa2-7859-4259-a952-79e7e190416d",
            "metadata": {},
            "outputs": [],
            "source": [
                "initial_state = np.array([1, 0, 0])[None, :]\n",
                "lorenz_data, derivative_lorenz_data, time = lorenz_solver(rho=rho, dt=dt, T=T_max, sigma=sigma,\n",
                "                                                          initial_state=initial_state,\n",
                "                                                          beta=beta, beta_str=beta_str,\n",
                "                                                          data_path='on_memory', solver='RK45')"
            ]
        },
        {
            "cell_type": "markdown",
            "id": "6da63aaa-39ec-4052-aa80-5f60a4d2393f",
            "metadata": {},
            "source": [
                "Hyperparameters and auxiliary parameters."
            ]
        },
        {
            "cell_type": "code",
            "execution_count": null,
            "id": "dbbd82e8-273e-4ce6-aca9-89de09725b06",
            "metadata": {},
            "outputs": [],
            "source": [
                "t = time\n",
                "lambda_linear = 1e-3\n",
                "lambda_quadratic = 1e-3\n",
                "n_steps = time.shape[0]\n",
                "nt = int(0.8 * n_steps)\n",
                "nt_test = n_steps - nt\n",
                "t_test = t[nt:]"
            ]
        },
        {
            "cell_type": "markdown",
            "id": "25ec897e-742c-4775-a032-b79255ffc765",
            "metadata": {},
            "source": [
                "Separating train and test datasets."
            ]
        },
        {
            "cell_type": "code",
            "execution_count": null,
            "id": "da1f1dec-657f-42c6-9df3-68fc15c5aff8",
            "metadata": {},
            "outputs": [],
            "source": [
                "train_field = lorenz_data[:nt]  # manufactured nonlinear oscillator data\n",
                "train_field_derivative = derivative_lorenz_data[:nt]\n",
                "\n",
                "test_field = lorenz_data[nt:]  # manufactured nonlinear oscillator data\n",
                "test_field_derivatives = derivative_lorenz_data[nt:]"
            ]
        },
        {
            "cell_type": "markdown",
            "id": "e5ed0f99-6752-4ae6-b73c-fb8eb10b3dca",
            "metadata": {},
            "source": [
                "Instantiating and executing Operators Inference with an expanded space of observables. This model consists of a quadratic operator as seen below:"
            ]
        },
        {
            "cell_type": "markdown",
            "id": "37bf8180-6e71-4862-99b2-af5ac1953b83",
            "metadata": {},
            "source": [
                "$$\n",
                "\\frac{\\mathrm{d}\\widehat{\\mathbf{u}}}{\\mathrm{d}t} = \\mathbf{A}\\widehat{\\mathbf{u}} + \\mathbf{H}(\\widehat{\\mathbf{u}} \\otimes \\widehat{\\mathbf{u}}) + \\widehat{\\mathbf{c}}\n",
                "$$\n",
                "In which $\\widehat{\\mathbf{u}}$ is a ROM generated from the original space $\\mathbf{u}$. In case of Lorenz 63 such intermediary transformation is not necessary, so $\\widehat{\\mathbf{u}} = \\mathbf{u}$."
            ]
        },
        {
            "cell_type": "code",
            "execution_count": null,
            "id": "166b8e3c-a7df-49d5-9dcc-8de0e8393495",
            "metadata": {},
            "outputs": [],
            "source": [
                "operator_config = {'bias_rescale':1e-15, 'solver': 'lstsq'}\n",
                "lorenz_op = ExtendedOpInf(observables=['x', 'cos(x)', 'sin(x)'], operator_config=operator_config)\n",
                "\n",
                "lorenz_op.set(lambda_linear=lambda_linear, lambda_quadratic=lambda_quadratic)\n",
                "lorenz_op.fit(input_data=train_field, target_data=train_field_derivative)"
            ]
        },
        {
            "cell_type": "code",
            "execution_count": null,
            "id": "00397117-54fd-41ba-b2b1-b9665c730c88",
            "metadata": {},
            "outputs": [],
            "source": [
                "print(f\"A_hat: {np.array_str(lorenz_op.A_hat, precision=3, suppress_small=True)}\")\n",
                "print(f\"H_hat: {np.array_str(lorenz_op.H_hat, precision=3, suppress_small=True)}\")\n",
                "print(f\"c_hat: {np.array_str(lorenz_op.c_hat, precision=3, suppress_small=True)}\")"
            ]
        },
        {
            "cell_type": "code",
            "execution_count": null,
            "id": "5d912daa-a814-480a-bd43-6723d99337e7",
            "metadata": {},
            "outputs": [],
            "source": [
                "init_state = train_field[-1:]\n",
                "estimated_field_derivatives = lorenz_op.eval(input_data=test_field)\n",
                "tags = ['x', 'y', 'z']"
            ]
        },
        {
            "cell_type": "markdown",
            "id": "5d7bd591-02cb-433f-a205-d28e6fdb8864",
            "metadata": {},
            "source": [
                "Visualizing time-derivatives."
            ]
        },
        {
            "cell_type": "code",
            "execution_count": null,
            "id": "be23a872-3cc6-4154-b647-b2e1ee2184de",
            "metadata": {},
            "outputs": [],
            "source": [
                "for var in range(n_field):\n",
                "    plt.title(f\"Time-derivative for variable {tags[var]}\")\n",
                "    plt.plot(t_test, test_field_derivatives[:, var], label=\"Exact\")\n",
                "    plt.plot(t_test, estimated_field_derivatives[:, var], label=\"Approximated\")\n",
                "    plt.xlabel(\"time (s)\")\n",
                "    plt.legend()\n",
                "    plt.grid(True)\n",
                "    plt.show()"
            ]
        },
        {
            "cell_type": "markdown",
            "id": "714ef280-b116-455c-9abe-cc3e287f2ed4",
            "metadata": {},
            "source": [
                "Construcing jacobian tensor (It could be used during the time-integrations, but seemingly it is not)."
            ]
        },
        {
            "cell_type": "code",
            "execution_count": null,
            "id": "3455d5c1-5854-445e-b54c-a18033fb883a",
            "metadata": {},
            "outputs": [],
            "source": [
                "lorenz_op.construct_K_op()"
            ]
        },
        {
            "cell_type": "markdown",
            "id": "98e8f624-95e0-4461-8b89-4039e121dc38",
            "metadata": {},
            "source": [
                "Time-integrating the trained model and visualizing the output."
            ]
        },
        {
            "cell_type": "code",
            "execution_count": null,
            "id": "1cd3439e-e474-444d-b270-669529fc1139",
            "metadata": {},
            "outputs": [],
            "source": [
                "# Using the derivatives surrogate for time-integrating\n",
                "right_operator = ClassWrapper(lorenz_op)\n",
                "\n",
                "solver = LSODA(right_operator)\n",
                "\n",
                "initial_state = init_state[0]\n",
                "\n",
                "estimated_field = solver.run(initial_state, t_test)"
            ]
        },
        {
            "cell_type": "markdown",
            "id": "008dc629-3bc8-43fe-8442-b042f27bae33",
            "metadata": {},
            "source": [
                "Estimating the number of Lyapunov units for the extrapolation."
            ]
        },
        {
            "cell_type": "code",
            "execution_count": null,
            "id": "b95d394d-0a55-49e6-a144-75d204084cac",
            "metadata": {},
            "outputs": [],
            "source": [
                "lyapunov_estimator = LyapunovUnits(lyapunov_unit=0.96, tol=0.001, time_scale=dt)\n",
                "n_units = lyapunov_estimator(data=estimated_field[:], reference_data=test_field, relative_norm=True)\n",
                "print(f\"Number of Lyapunov units extrapolated: {n_units}\")"
            ]
        },
        {
            "cell_type": "code",
            "execution_count": null,
            "id": "7ca8d2ff-d500-411a-8091-b267f6e939fa",
            "metadata": {},
            "outputs": [],
            "source": [
                " for var in range(n_field):\n",
                "    plt.title(f\"Variable {tags[var]}\")\n",
                "    plt.plot(t_test, test_field[:, var], label=\"Exact\")\n",
                "    plt.plot(t_test, estimated_field[:, var], label=\"Approximated\")\n",
                "    plt.xlabel(\"time (s)\")\n",
                "    plt.grid(True)\n",
                "    plt.legend()\n",
                "    plt.show()"
            ]
        }
    ],
    "metadata": {
        "kernelspec": {
            "display_name": "base",
            "language": "python",
            "name": "python3"
        },
        "language_info": {
            "codemirror_mode": {
                "name": "ipython",
                "version": 3
            },
            "file_extension": ".py",
            "mimetype": "text/x-python",
            "name": "python",
            "nbconvert_exporter": "python",
            "pygments_lexer": "ipython3",
            "version": "3.9.7"
        },
        "vscode": {
            "interpreter": {
                "hash": "be7372955a7040510ea7ee3cc8ed40465b65af60c29242fe5cc9e0fed564b3ea"
            }
        }
    },
    "nbformat": 4,
    "nbformat_minor": 5
}
