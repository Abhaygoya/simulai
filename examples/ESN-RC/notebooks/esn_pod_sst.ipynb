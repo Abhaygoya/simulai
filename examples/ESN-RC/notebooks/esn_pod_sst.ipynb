{
    "cells": [
        {
            "cell_type": "code",
            "metadata": {},
            "source": [
                "# (C) Copyright IBM Corp. 2019, 2020, 2021, 2022.\n",
                "\n",
                "#    Licensed under the Apache License, Version 2.0 (the \"License\");\n",
                "#    you may not use this file except in compliance with the License.\n",
                "#    You may obtain a copy of the License at\n",
                "\n",
                "#           http://www.apache.org/licenses/LICENSE-2.0\n",
                "\n",
                "#     Unless required by applicable law or agreed to in writing, software\n",
                "#     distributed under the License is distributed on an \"AS IS\" BASIS,\n",
                "#     WITHOUT WARRANTIES OR CONDITIONS OF ANY KIND, either express or implied.\n",
                "#     See the License for the specific language governing permissions and\n",
                "#     limitations under the License.\n"
            ]
        },
        {
            "cell_type": "code",
            "execution_count": null,
            "metadata": {},
            "outputs": [],
            "source": [
                "import numpy as np\n",
                "import requests\n",
                "import rasterio\n",
                "import zipfile\n",
                "import os\n",
                "import datetime\n",
                "from dateutil.relativedelta import relativedelta\n",
                "import calendar\n",
                "import matplotlib.pyplot as plt\n",
                "from cartopy import config\n",
                "import cartopy.crs as ccrs\n",
                "from cartopy.util import add_cyclic_point\n",
                "\n",
                "from simulai.rom import POD\n",
                "from simulai.models import ModelPool"
            ]
        },
        {
            "cell_type": "code",
            "execution_count": null,
            "metadata": {},
            "outputs": [],
            "source": [
                "def getSSTA():\n",
                "    url_sst_anomaly=\"http://iridl.ldeo.columbia.edu/expert/SOURCES/.NOAA/.NCEP/.EMC/.CMB/\\\n",
                "    .GLOBAL/.Reyn_SmithOIv2/.monthly/.ssta/startcolormap/DATA/-5./5./RANGE/transparent/navy/blue/\\\n",
                "    -5./VALUE/cyan/-0.5/VALUE/white/white/0.5/bandmax/yellow/0.5/VALUE/red/5./\\\n",
                "    VALUE/firebrick/endcolormap/DATA/0.5/STEP/data.nc\"\n",
                "    if not os.path.isfile(\"data.nc\"):\n",
                "        req=requests.get(url_sst_anomaly)\n",
                "        open(\"data.nc\", \"wb\").write(req.content)\n",
                "    return rasterio.open(\"data.nc\")"
            ]
        },
        {
            "cell_type": "code",
            "execution_count": null,
            "metadata": {},
            "outputs": [],
            "source": [
                "print(\"Executing the data download ...\")\n",
                "ssta = getSSTA()\n",
                "print(\"Download is concluded.\")"
            ]
        },
        {
            "cell_type": "code",
            "execution_count": null,
            "metadata": {},
            "outputs": [],
            "source": [
                "begin=datetime.datetime.strptime(ssta.tags()['T#units'][-10:], \"%Y-%m-%d\")\n",
                "band2date = {j+1 : begin + relativedelta(months=int(float(i))) \\\n",
                "              for j, i in enumerate(ssta.tags()[\"NETCDF_DIM_T_VALUES\"][1:-1].split(\",\"))}\n",
                "date2band = {j:i for i,j in band2date.items()}\n",
                "\n",
                "band2date[1], band2date[list(band2date.keys())[-1]]\n",
                "\n",
                "mask = (1-np.isnan(ssta.read(1)).astype(np.int))\n",
                "\n",
                "END=2012\n",
                "years = [i for i in range(1982, END)]\n",
                "\n",
                "def getBand(i):\n",
                "    return ssta.read(i)[mask == 1]\n",
                "\n",
                "def getRow(year):\n",
                "    return np.vstack([getBand( date2band[datetime.datetime(year, month, 1)] ) for month in range(1,13)])\n",
                "\n",
                "S = np.vstack([getRow(year) for year in years]).T\n",
                "S = S.T\n",
                "n_samples = S.shape[0]\n",
                "\n",
                "train_S = S[:n_samples - 12]\n",
                "test_S = S[n_samples - 12:]"
            ]
        },
        {
            "cell_type": "markdown",
            "metadata": {},
            "source": [
                "Applying POD and projecting the dataset into the ROM basis."
            ]
        },
        {
            "cell_type": "code",
            "execution_count": null,
            "metadata": {},
            "outputs": [],
            "source": [
                "shuffle = True\n",
                "\n",
                "rom_config = {\n",
                "              'n_components': 200,\n",
                "              'mean_component': True\n",
                "             }\n",
                "rom = POD(config=rom_config)\n",
                "rom.fit(data=train_S)\n",
                "projected_S = rom.project(data=train_S)"
            ]
        },
        {
            "cell_type": "markdown",
            "metadata": {},
            "source": [
                "Rescaling data."
            ]
        },
        {
            "cell_type": "code",
            "execution_count": null,
            "metadata": {},
            "outputs": [],
            "source": [
                "max_proj_S = projected_S.max(0)\n",
                "min_proj_S = projected_S.min(0)\n",
                "activation = 'tanh'\n",
                "\n",
                "if activation != 'sigmoid':\n",
                "    norm_projected_S = 2*(projected_S - min_proj_S)/(max_proj_S - min_proj_S) - 1\n",
                "else:\n",
                "    norm_projected_S = (projected_S - min_proj_S) / (max_proj_S - min_proj_S)"
            ]
        },
        {
            "cell_type": "markdown",
            "metadata": {},
            "source": [
                "Setups for ESN-RC and parallelism. "
            ]
        },
        {
            "cell_type": "code",
            "execution_count": null,
            "metadata": {},
            "outputs": [],
            "source": [
                "pool_config = {'template': 'independent_series',\n",
                "               'n_inputs': 200,\n",
                "               'n_auxiliary': 0,\n",
                "               'n_outputs': 200}\n",
                "\n",
                "rc_config = {\n",
                "             'reservoir_dim': 5000, 'sparsity_level': 1,\n",
                "             'radius': 0.99, 'activation': activation,\n",
                "             'sigma': .1, 'beta': 1e-4,\n",
                "             'transformation': 'T1'\n",
                "            }"
            ]
        },
        {
            "cell_type": "code",
            "execution_count": null,
            "metadata": {},
            "outputs": [],
            "source": [
                "input_data = norm_projected_S[:-1]\n",
                "target_data = norm_projected_S[1:]\n",
                "\n",
                "initial_state = norm_projected_S[-1:]\n",
                "horizon = 12"
            ]
        },
        {
            "cell_type": "markdown",
            "metadata": {},
            "source": [
                "Instantiating the model. "
            ]
        },
        {
            "cell_type": "code",
            "execution_count": null,
            "metadata": {},
            "outputs": [],
            "source": [
                "pool = ModelPool(config=pool_config, model_type='EchoStateNetwork',\n",
                "                 model_config=rc_config)\n",
                "\n",
                "if shuffle:\n",
                "    indices = np.arange(input_data.shape[0])\n",
                "    np.random.shuffle(indices)\n",
                "    input_data_ = input_data[indices, :]\n",
                "    target_data_ = target_data[indices, :]\n",
                "else:\n",
                "    input_data_ = input_data\n",
                "    target_data_ = target_data"
            ]
        },
        {
            "cell_type": "markdown",
            "metadata": {},
            "source": [
                "Executing the model fitting."
            ]
        },
        {
            "cell_type": "code",
            "execution_count": 17,
            "metadata": {},
            "outputs": [
                {
                    "ename": "KeyboardInterrupt",
                    "evalue": "",
                    "output_type": "error",
                    "traceback": [
                        "\u001b[0;31m---------------------------------------------------------------------------\u001b[0m",
                        "\u001b[0;31mKeyboardInterrupt\u001b[0m                         Traceback (most recent call last)",
                        "\u001b[0;32m<ipython-input-17-e55b6084dd3a>\u001b[0m in \u001b[0;36m<module>\u001b[0;34m\u001b[0m\n\u001b[0;32m----> 1\u001b[0;31m \u001b[0mpool\u001b[0m\u001b[0;34m.\u001b[0m\u001b[0mfit\u001b[0m\u001b[0;34m(\u001b[0m\u001b[0minput_data\u001b[0m\u001b[0;34m=\u001b[0m\u001b[0minput_data_\u001b[0m\u001b[0;34m,\u001b[0m \u001b[0mtarget_data\u001b[0m\u001b[0;34m=\u001b[0m\u001b[0mtarget_data_\u001b[0m\u001b[0;34m)\u001b[0m\u001b[0;34m\u001b[0m\u001b[0;34m\u001b[0m\u001b[0m\n\u001b[0m",
                        "\u001b[0;32m~/Projetos/simulai_applications/simulai_notebooks/src/simulai/simulai/models/_models.py\u001b[0m in \u001b[0;36mfit\u001b[0;34m(self, input_data, target_data, auxiliary_data, index, shuffle)\u001b[0m\n\u001b[1;32m    649\u001b[0m             \u001b[0;31m# Executing the fitting process for all the sub-models\u001b[0m\u001b[0;34m\u001b[0m\u001b[0;34m\u001b[0m\u001b[0;34m\u001b[0m\u001b[0m\n\u001b[1;32m    650\u001b[0m             \u001b[0;31m# contained in this pool\u001b[0m\u001b[0;34m\u001b[0m\u001b[0;34m\u001b[0m\u001b[0;34m\u001b[0m\u001b[0m\n\u001b[0;32m--> 651\u001b[0;31m             \u001b[0mmsg\u001b[0m \u001b[0;34m=\u001b[0m \u001b[0mself\u001b[0m\u001b[0;34m.\u001b[0m\u001b[0m_sub_model_dispatcher\u001b[0m\u001b[0;34m(\u001b[0m\u001b[0msub_datasets\u001b[0m\u001b[0;34m,\u001b[0m \u001b[0msub_datasets_target\u001b[0m\u001b[0;34m,\u001b[0m \u001b[0mshuffle\u001b[0m\u001b[0;34m=\u001b[0m\u001b[0mshuffle\u001b[0m\u001b[0;34m)\u001b[0m\u001b[0;34m\u001b[0m\u001b[0;34m\u001b[0m\u001b[0m\n\u001b[0m\u001b[1;32m    652\u001b[0m \u001b[0;34m\u001b[0m\u001b[0m\n\u001b[1;32m    653\u001b[0m         \u001b[0mprint\u001b[0m\u001b[0;34m(\u001b[0m\u001b[0;34m\"Model configuration concluded.\"\u001b[0m\u001b[0;34m)\u001b[0m\u001b[0;34m\u001b[0m\u001b[0;34m\u001b[0m\u001b[0m\n",
                        "\u001b[0;32m~/Projetos/simulai_applications/simulai_notebooks/src/simulai/simulai/models/_models.py\u001b[0m in \u001b[0;36m_sub_model_dispatcher\u001b[0;34m(self, sub_datasets, sub_datasets_target, shuffle)\u001b[0m\n\u001b[1;32m    541\u001b[0m             \u001b[0;31m# Dispatching processes serially or in parallel\u001b[0m\u001b[0;34m\u001b[0m\u001b[0;34m\u001b[0m\u001b[0;34m\u001b[0m\u001b[0m\n\u001b[1;32m    542\u001b[0m             msg = self._sub_model_pool_dispatcher(sub_datasets=sub_datasets, sub_datasets_target=sub_datasets_target,\n\u001b[0;32m--> 543\u001b[0;31m                                                   model_instances_list=self.model_instances_list, shuffle=shuffle)\n\u001b[0m\u001b[1;32m    544\u001b[0m \u001b[0;34m\u001b[0m\u001b[0m\n\u001b[1;32m    545\u001b[0m         \u001b[0;31m# In case of handy models, we use a ModelMaker class to handle\u001b[0m\u001b[0;34m\u001b[0m\u001b[0;34m\u001b[0m\u001b[0;34m\u001b[0m\u001b[0m\n",
                        "\u001b[0;32m~/Projetos/simulai_applications/simulai_notebooks/src/simulai/simulai/models/_models.py\u001b[0m in \u001b[0;36m_sub_model_serial_pool_dispatcher\u001b[0;34m(self, sub_datasets, sub_datasets_target, model_instances_list, shuffle)\u001b[0m\n\u001b[1;32m    472\u001b[0m \u001b[0;34m\u001b[0m\u001b[0m\n\u001b[1;32m    473\u001b[0m             \u001b[0;31m# Fitting the model instance\u001b[0m\u001b[0;34m\u001b[0m\u001b[0;34m\u001b[0m\u001b[0;34m\u001b[0m\u001b[0m\n\u001b[0;32m--> 474\u001b[0;31m             \u001b[0mmodel\u001b[0m\u001b[0;34m.\u001b[0m\u001b[0mfit\u001b[0m\u001b[0;34m(\u001b[0m\u001b[0minput_data\u001b[0m\u001b[0;34m=\u001b[0m\u001b[0mdataset_\u001b[0m\u001b[0;34m,\u001b[0m \u001b[0mtarget_data\u001b[0m\u001b[0;34m=\u001b[0m\u001b[0mdataset_target_\u001b[0m\u001b[0;34m)\u001b[0m\u001b[0;34m\u001b[0m\u001b[0;34m\u001b[0m\u001b[0m\n\u001b[0m\u001b[1;32m    475\u001b[0m \u001b[0;34m\u001b[0m\u001b[0m\n\u001b[1;32m    476\u001b[0m     \u001b[0;31m# Loop for dispatching list of sub-models in parallel using the MPI API\u001b[0m\u001b[0;34m\u001b[0m\u001b[0;34m\u001b[0m\u001b[0;34m\u001b[0m\u001b[0m\n",
                        "\u001b[0;32m~/Projetos/simulai_applications/simulai_notebooks/src/simulai/simulai/regression/_esn.py\u001b[0m in \u001b[0;36mfit\u001b[0;34m(self, input_data, target_data)\u001b[0m\n\u001b[1;32m    506\u001b[0m \u001b[0;34m\u001b[0m\u001b[0m\n\u001b[1;32m    507\u001b[0m             \u001b[0;31m# Constructing and solving the global linear system\u001b[0m\u001b[0;34m\u001b[0m\u001b[0;34m\u001b[0m\u001b[0;34m\u001b[0m\u001b[0m\n\u001b[0;32m--> 508\u001b[0;31m             \u001b[0mU\u001b[0m \u001b[0;34m=\u001b[0m \u001b[0mself\u001b[0m\u001b[0;34m.\u001b[0m\u001b[0mglobal_matrix_constructor\u001b[0m\u001b[0;34m(\u001b[0m\u001b[0mr_til\u001b[0m\u001b[0;34m,\u001b[0m \u001b[0midenmat\u001b[0m\u001b[0;34m)\u001b[0m\u001b[0;34m\u001b[0m\u001b[0;34m\u001b[0m\u001b[0m\n\u001b[0m\u001b[1;32m    509\u001b[0m \u001b[0;34m\u001b[0m\u001b[0m\n\u001b[1;32m    510\u001b[0m             \u001b[0mWout\u001b[0m \u001b[0;34m=\u001b[0m \u001b[0mself\u001b[0m\u001b[0;34m.\u001b[0m\u001b[0msolver_op\u001b[0m\u001b[0;34m(\u001b[0m\u001b[0mdata_out_\u001b[0m\u001b[0;34m,\u001b[0m \u001b[0mU\u001b[0m\u001b[0;34m,\u001b[0m \u001b[0mr_til\u001b[0m\u001b[0;34m)\u001b[0m\u001b[0;34m\u001b[0m\u001b[0;34m\u001b[0m\u001b[0m\n",
                        "\u001b[0;32m~/Projetos/simulai_applications/simulai_notebooks/src/simulai/simulai/regression/_esn.py\u001b[0m in \u001b[0;36m_construct_global_matrix_numba\u001b[0;34m(self, r_til, idenmat)\u001b[0m\n\u001b[1;32m    391\u001b[0m \u001b[0;34m\u001b[0m\u001b[0m\n\u001b[1;32m    392\u001b[0m         \u001b[0mdot\u001b[0m \u001b[0;34m=\u001b[0m \u001b[0mouter_dot\u001b[0m\u001b[0;34m(\u001b[0m\u001b[0mengine\u001b[0m\u001b[0;34m=\u001b[0m\u001b[0;34m\"numba\"\u001b[0m\u001b[0;34m)\u001b[0m\u001b[0;34m\u001b[0m\u001b[0;34m\u001b[0m\u001b[0m\n\u001b[0;32m--> 393\u001b[0;31m         \u001b[0mU\u001b[0m \u001b[0;34m=\u001b[0m \u001b[0mdot\u001b[0m\u001b[0;34m(\u001b[0m\u001b[0mr_til\u001b[0m\u001b[0;34m,\u001b[0m \u001b[0mU\u001b[0m\u001b[0;34m)\u001b[0m\u001b[0;34m\u001b[0m\u001b[0;34m\u001b[0m\u001b[0m\n\u001b[0m\u001b[1;32m    394\u001b[0m \u001b[0;34m\u001b[0m\u001b[0m\n\u001b[1;32m    395\u001b[0m         \u001b[0mU\u001b[0m \u001b[0;34m+=\u001b[0m \u001b[0midenmat\u001b[0m\u001b[0;34m\u001b[0m\u001b[0;34m\u001b[0m\u001b[0m\n",
                        "\u001b[0;31mKeyboardInterrupt\u001b[0m: "
                    ]
                }
            ],
            "source": [
                "pool.fit(input_data=input_data_, target_data=target_data_)"
            ]
        },
        {
            "cell_type": "markdown",
            "metadata": {},
            "source": [
                "Inverse rescaling transformation. "
            ]
        },
        {
            "cell_type": "code",
            "execution_count": null,
            "metadata": {},
            "outputs": [],
            "source": [
                "norm_projected_S_tilde = pool.predict(initial_state=initial_state,\n",
                "                                      horizon=horizon)\n",
                "if activation != 'sigmoid':\n",
                "    projected_S_tilde = (max_proj_S - min_proj_S)*(norm_projected_S_tilde + 1)/2 + min_proj_S\n",
                "else:\n",
                "    projected_S_tilde = (max_proj_S - min_proj_S) * norm_projected_S_tilde + min_proj_S"
            ]
        },
        {
            "cell_type": "markdown",
            "metadata": {},
            "source": [
                "Reconstructing the original space. "
            ]
        },
        {
            "cell_type": "code",
            "execution_count": null,
            "metadata": {},
            "outputs": [],
            "source": [
                "S_tilde = rom.reconstruct(projected_S_tilde)"
            ]
        },
        {
            "cell_type": "markdown",
            "metadata": {},
            "source": [
                "Post-processing. "
            ]
        },
        {
            "cell_type": "code",
            "execution_count": null,
            "metadata": {},
            "outputs": [],
            "source": [
                "years = [i for i in range(END,END+1)]\n",
                "\n",
                "def getBand(i):\n",
                "    return ssta.read(i)[mask==1]\n",
                "\n",
                "def getRow(year):\n",
                "    return np.vstack([getBand( date2band[datetime.datetime(year, month, 1)] ) for month in range(1,13)])\n",
                "\n",
                "xhat = S_tilde.T\n",
                "S_true = test_S.T\n",
                "\n",
                "lats = np.linspace(ssta.bounds.top, ssta.bounds.bottom, ssta.shape[0] + 1)[0:-1]\n",
                "lons = np.linspace(ssta.bounds.left, ssta.bounds.right, ssta.shape[1] + 1)[0:-1]\n",
                "\n",
                "plt.figure(figsize=(16, 46))\n",
                "\n",
                "for i in range(12):\n",
                "    xtrue = S_true[:, i]  # true value\n",
                "    xpred = xhat[:, i] #np.real(xhat[S.shape[0]:S.shape[0] * 2, i])\n",
                "    xtrueview = np.zeros_like(mask)\n",
                "    xtrueview[mask == 1] = xtrue\n",
                "    xpredview = np.zeros_like(mask)\n",
                "    xpredview[mask == 1] = xpred\n",
                "    # MIN=np.min(np.stack([xhat, xprime]))\n",
                "    # MAX=np.max(np.stack([xhat, xprime]))\n",
                "    ax = plt.subplot(12, 2, i * 2 + 1, projection=ccrs.PlateCarree())\n",
                "    cntr = ax.contourf(lons, lats, xtrueview, levels=np.linspace(-4., 4, 10), transform=ccrs.PlateCarree(), \\\n",
                "                       cmap=\"bwr\", vmin=-4, vmax=4)\n",
                "    ax.coastlines()\n",
                "    plt.colorbar(cntr)\n",
                "    plt.title(f\"True anomaly {calendar.month_name[i + 1]} {END}\")\n",
                "    ax = plt.subplot(12, 2, i * 2 + 2, projection=ccrs.PlateCarree())\n",
                "    cntr = ax.contourf(lons, lats, xpredview, levels=np.linspace(-4., 4, 10), transform=ccrs.PlateCarree(), \\\n",
                "                       cmap=\"bwr\", vmin=-4, vmax=4)\n",
                "    ax.coastlines()\n",
                "    plt.colorbar(cntr)\n",
                "    plt.title(f\"Predicted anomaly {calendar.month_name[i + 1]} {END}\")\n",
                "\n",
                "plt.savefig(\"figure_{}.png\".format(activation))"
            ]
        },
        {
            "cell_type": "markdown",
            "metadata": {},
            "source": [
                "Linear activation"
            ]
        },
        {
            "cell_type": "markdown",
            "metadata": {},
            "source": [
                "![Linear activation](figures/figure_linear.png)"
            ]
        },
        {
            "cell_type": "markdown",
            "metadata": {},
            "source": [
                "Hyperbolic tangent activation"
            ]
        },
        {
            "cell_type": "markdown",
            "metadata": {},
            "source": [
                "![Hyperbolic tangent activation](figures/figure_tanh.png)"
            ]
        },
        {
            "cell_type": "markdown",
            "metadata": {},
            "source": [
                "Sigmoid activation"
            ]
        },
        {
            "cell_type": "markdown",
            "metadata": {},
            "source": [
                "![Sigmoid activation](figures/figure_sigmoid.png)"
            ]
        },
        {
            "cell_type": "code",
            "execution_count": null,
            "metadata": {},
            "outputs": [],
            "source": []
        }
    ],
    "metadata": {
        "kernelspec": {
            "display_name": "Python 3",
            "language": "python",
            "name": "python3"
        },
        "language_info": {
            "codemirror_mode": {
                "name": "ipython",
                "version": 3
            },
            "file_extension": ".py",
            "mimetype": "text/x-python",
            "name": "python",
            "nbconvert_exporter": "python",
            "pygments_lexer": "ipython3",
            "version": "3.7.7"
        }
    },
    "nbformat": 4,
    "nbformat_minor": 4
}