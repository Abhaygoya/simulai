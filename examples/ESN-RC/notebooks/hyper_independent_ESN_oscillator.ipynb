{
    "cells": [
        {
            "cell_type": "code",
            "metadata": {},
            "source": [
                "# (C) Copyright IBM Corp. 2019, 2020, 2021, 2022.\n",
                "\n",
                "#    Licensed under the Apache License, Version 2.0 (the \"License\");\n",
                "#    you may not use this file except in compliance with the License.\n",
                "#    You may obtain a copy of the License at\n",
                "\n",
                "#           http://www.apache.org/licenses/LICENSE-2.0\n",
                "\n",
                "#     Unless required by applicable law or agreed to in writing, software\n",
                "#     distributed under the License is distributed on an \"AS IS\" BASIS,\n",
                "#     WITHOUT WARRANTIES OR CONDITIONS OF ANY KIND, either express or implied.\n",
                "#     See the License for the specific language governing permissions and\n",
                "#     limitations under the License.\n"
            ]
        },
        {
            "cell_type": "code",
            "execution_count": 4,
            "id": "4bd153e0-ed7f-488e-916c-20220f5c3405",
            "metadata": {},
            "outputs": [],
            "source": [
                "import random\n",
                "import os\n",
                "import optuna\n",
                "from argparse import ArgumentParser\n",
                "import os \n",
                "\n",
                "os.environ['engine'] = 'pytorch'\n",
                "\n",
                "import numpy as np\n",
                "import matplotlib.pyplot as plt\n",
                "from simulai.utilities.oscillator_solver import oscillator_solver_forcing\n",
                "from simulai.workflows import StepwiseExtrapolation\n",
                "from simulai.regression import EchoStateNetwork\n",
                "from simulai.templates import HyperTrainTemplate\n",
                "from simulai.workflows import ParamHyperOpt\n",
                "from simulai.metrics import L2Norm"
            ]
        },
        {
            "cell_type": "markdown",
            "id": "73e65a42-dc8d-4cae-8348-5d1ab1732f9d",
            "metadata": {},
            "source": [
                "Hyperparameter search for  ESN+ModelPool using Optuna."
            ]
        },
        {
            "cell_type": "code",
            "execution_count": 5,
            "id": "d637e3a9-09cc-4b4a-8d78-467eead75e8a",
            "metadata": {},
            "outputs": [],
            "source": [
                "\n",
                "class HyperModelPoolESN(HyperTrainTemplate):\n",
                "\n",
                "    def __init__(self, trial_config: dict=None, set_type='hard', other_params: dict=None):\n",
                "\n",
                "        self.model = None\n",
                "\n",
                "        self.others_params = other_params\n",
                "\n",
                "        required_keys = ['sub_model_number_of_inputs', 'global_matrix_constructor_str',\n",
                "                         'n_workers', 'solver', 'initial_state', 'path_to_save', 'tag', 'id']\n",
                "\n",
                "        self.sub_model_number_of_inputs = None\n",
                "        self.global_matrix_constructor_str = None\n",
                "        self.n_workers = None\n",
                "        self.solver = None\n",
                "        self.initial_state = None\n",
                "        self.n_steps = None\n",
                "        self.path_to_save = None\n",
                "        self.tag = 'model_'\n",
                "        self.id = None\n",
                "\n",
                "        for key in required_keys:\n",
                "            assert key in trial_config.keys(), f\"The required parameter {key} is not in others_params.\"\n",
                "\n",
                "        for key, value in trial_config.items():\n",
                "            setattr(self, key, value)\n",
                "\n",
                "        super().__init__(trial_config=trial_config, set_type=set_type)\n",
                "\n",
                "        self.model_id = self.tag + str(self.id)\n",
                "\n",
                "    def _set_model(self):\n",
                "\n",
                "        rc_config = {\n",
                "                     'reservoir_dim': self.trial_config['reservoir_dim'],\n",
                "                     'sparsity_level': self.trial_config['sparsity_level'] * self.trial_config['reservoir_dim'],\n",
                "                     'radius': self.trial_config['radius'],\n",
                "                     'sigma': self.trial_config['sigma'],\n",
                "                     'beta': 10**self.trial_config['beta_exp']\n",
                "                    }\n",
                "\n",
                "        extra_params = {\n",
                "                        'number_of_inputs': self.sub_model_number_of_inputs,\n",
                "                        'global_matrix_constructor_str': self.global_matrix_constructor_str,\n",
                "                        'solver': self.solver,\n",
                "                        'n_workers': self.n_workers\n",
                "                       }\n",
                "\n",
                "        rc_config.update(extra_params)\n",
                "\n",
                "        self.model = EchoStateNetwork(**rc_config)\n",
                "\n",
                "    def fit(self, input_train_data=None, target_train_data=None):\n",
                "\n",
                "        self.model.fit(input_data=input_train_data, target_data=target_train_data)\n",
                "\n",
                "        self.model.save_model(save_path=self.path_to_save, model_name=self.model_id)\n",
                "        "
            ]
        },
        {
            "cell_type": "markdown",
            "id": "162ac7ef-660c-4393-a1fa-85162170abd2",
            "metadata": {},
            "source": [
                "Custommization wrapper class."
            ]
        },
        {
            "cell_type": "code",
            "execution_count": 6,
            "id": "d071b152-1178-4586-a3d8-d82b253baea2",
            "metadata": {},
            "outputs": [],
            "source": [
                "class ObjectiveWrapper:\n",
                "\n",
                "        def __init__(self, test_data=None, forcings_input=None, initial_state=None, n_steps=None):\n",
                "\n",
                "            self.test_data = test_data\n",
                "            self.forcings_input = forcings_input\n",
                "            self.initial_state = initial_state\n",
                "            self.n_steps = n_steps\n",
                "\n",
                "        def __call__(self, trainer_instance=None, objective_function=None):\n",
                "\n",
                "            return objective_function(model=trainer_instance, initial_state=self.initial_state,\n",
                "                                      test_data=self.test_data,\n",
                "                                      forcings_input=self.forcings_input,\n",
                "                                      n_steps=self.n_steps)\n"
            ]
        },
        {
            "cell_type": "markdown",
            "id": "e1480691-7e55-4fbe-b767-29f102942868",
            "metadata": {},
            "source": [
                "Objective function."
            ]
        },
        {
            "cell_type": "code",
            "execution_count": 7,
            "id": "4cb5b822-210a-4499-8be6-0deefa2fff9b",
            "metadata": {},
            "outputs": [],
            "source": [
                "def objective(model=None, initial_state=None, test_data=None, forcings_input=None, n_steps=None):\n",
                "\n",
                "    extrapolator = StepwiseExtrapolation(model=model.model, keys=[\"ESN_0\"])\n",
                "\n",
                "    l2_norm = L2Norm()\n",
                "\n",
                "    estimated_data = extrapolator.predict(initial_state=initial_state,\n",
                "                                          auxiliary_data=forcings_input,\n",
                "                                          horizon=n_steps)\n",
                "\n",
                "    error = 100 * l2_norm(data=estimated_data, reference_data=test_data, relative_norm=True)\n",
                "\n",
                "    return error"
            ]
        },
        {
            "cell_type": "markdown",
            "id": "13f240b7-fb81-47d4-a3f4-5a0107d96246",
            "metadata": {},
            "source": [
                "Problem parameters."
            ]
        },
        {
            "cell_type": "code",
            "execution_count": 9,
            "id": "e105407c-a638-4ec9-a490-90239c2e5143",
            "metadata": {},
            "outputs": [],
            "source": [
                "n_steps = 1000\n",
                "A = 1\n",
                "T = 50\n",
                "dt = T / n_steps"
            ]
        },
        {
            "cell_type": "markdown",
            "id": "b33b85e4-a762-4e63-952b-c87fdda55a9d",
            "metadata": {},
            "source": [
                "Generating a random forcing array (or restoring it)."
            ]
        },
        {
            "cell_type": "code",
            "execution_count": 10,
            "id": "a971daf3-476c-4053-8a24-faf60472b27b",
            "metadata": {},
            "outputs": [],
            "source": [
                "if not os.path.isfile('forcings.npy'):\n",
                "    forcings = A * np.random.rand(n_steps, 2)\n",
                "    np.save('forcings.npy', forcings)\n",
                "else:\n",
                "    forcings = np.load('forcings.npy')"
            ]
        },
        {
            "cell_type": "markdown",
            "id": "2f9bd54e-e865-4e43-97df-3fcff748c085",
            "metadata": {},
            "source": [
                "Numbers of field and forcing variables."
            ]
        },
        {
            "cell_type": "code",
            "execution_count": 11,
            "id": "846ce37b-8860-478b-8413-212e02727086",
            "metadata": {},
            "outputs": [],
            "source": [
                "n_field = 2  \n",
                "n_forcing = 2 \n",
                "sub_model_number_of_inputs = n_field + n_forcing"
            ]
        },
        {
            "cell_type": "markdown",
            "id": "c8cb1d60-96f9-42ec-bd39-9d292e100b79",
            "metadata": {},
            "source": [
                "Datasets fractions."
            ]
        },
        {
            "cell_type": "code",
            "execution_count": 12,
            "id": "86b928f0-a670-4f2e-a0ef-0488ada2daf7",
            "metadata": {},
            "outputs": [],
            "source": [
                "train_fraction = 0.6\n",
                "validation_fraction = 0.3\n",
                "test_fraction = 0.1\n",
                "\n",
                "n_train= int(train_fraction * n_steps)  # size of time steps\n",
                "n_validation = int(validation_fraction * n_steps)\n",
                "n_test = int(test_fraction * n_steps)"
            ]
        },
        {
            "cell_type": "markdown",
            "id": "4f3a8f11-b605-4782-8459-1597abcb93f0",
            "metadata": {},
            "source": [
                "Number of multiprocess workers and trials."
            ]
        },
        {
            "cell_type": "code",
            "execution_count": 13,
            "id": "bff86ba2-bc8d-4ccd-808b-fc564d928eb1",
            "metadata": {},
            "outputs": [],
            "source": [
                "n_workers = 8\n",
                "n_trials = 5"
            ]
        },
        {
            "cell_type": "markdown",
            "id": "ca781146-ff56-45c3-9352-7b5375104efd",
            "metadata": {},
            "source": [
                "Generating datasets."
            ]
        },
        {
            "cell_type": "code",
            "execution_count": 15,
            "id": "49da4c23-48b2-4c6d-b5cf-beed88266adb",
            "metadata": {},
            "outputs": [
                {
                    "name": "stdout",
                    "output_type": "stream",
                    "text": [
                        "Iteration 999"
                    ]
                }
            ],
            "source": [
                "initial_state = np.array([2, 0])[None, :]\n",
                "oscillator_data, _ = oscillator_solver_forcing(T, dt, initial_state, forcing=forcings)"
            ]
        },
        {
            "cell_type": "markdown",
            "id": "b3f92d11-2e89-4e40-a529-7447e601461b",
            "metadata": {},
            "source": [
                "Preparing datasets to be used by the Echo-State networks."
            ]
        },
        {
            "cell_type": "code",
            "execution_count": 17,
            "id": "1aa912ea-2811-44be-884b-2d49c032018b",
            "metadata": {},
            "outputs": [],
            "source": [
                "field_data = oscillator_data\n",
                "\n",
                "train_data = field_data[:n_train, :]\n",
                "validation_data = field_data[n_train:n_train+n_validation, :]\n",
                "test_data = field_data[n_train+n_validation:, :]\n",
                "\n",
                "input_data = train_data[:-1, :]\n",
                "target_data = train_data[1:, :]\n",
                "\n",
                "forcings_train_data = forcings[:n_train, :][:-1]\n",
                "\n",
                "forcings_validation_data = forcings[n_train:n_train+n_validation, :]\n",
                "\n",
                "forcings_test_data = forcings[n_train+n_validation:, :]\n",
                "\n",
                "initial_state_validation = train_data[-1:, :]\n",
                "initial_state_test = validation_data[-1:, :]"
            ]
        },
        {
            "cell_type": "markdown",
            "id": "0a9450b4-fb2a-40ac-a3cb-c76582e7b7ca",
            "metadata": {},
            "source": [
                "Parameters for the hyper-search."
            ]
        },
        {
            "cell_type": "code",
            "execution_count": 18,
            "id": "d2631fbd-0631-4c70-ba29-0d22f42e00a3",
            "metadata": {},
            "outputs": [],
            "source": [
                " params_intervals = {\n",
                "        'reservoir_dim': (1000, 2000),\n",
                "        'sparsity_level': (0.05, 0.1),\n",
                "        'radius': (0.3, 0.7),\n",
                "        'sigma': (0.3, 0.7),\n",
                "        'beta_exp': (-5, -2)\n",
                "    }\n",
                "\n",
                "params_suggestions = {\n",
                "    'reservoir_dim': 'int',\n",
                "    'sparsity_level': 'float',\n",
                "    'radius': 'float',\n",
                "    'sigma': 'float',\n",
                "    'beta_exp': 'int'\n",
                "}"
            ]
        },
        {
            "cell_type": "markdown",
            "id": "f7b7c071-63f5-4ce3-a4cc-717b0ad6e2cd",
            "metadata": {},
            "source": [
                "Others parameters, fixed by default."
            ]
        },
        {
            "cell_type": "code",
            "execution_count": 20,
            "id": "4335a5b0-b709-4660-9d68-8ce2d64a3f95",
            "metadata": {},
            "outputs": [],
            "source": [
                "path_to_save = '.'\n",
                "others_params = {'number_of_inputs': sub_model_number_of_inputs,\n",
                "                 'sub_model_number_of_inputs': sub_model_number_of_inputs,\n",
                "                 'global_matrix_constructor_str': 'multiprocessing',\n",
                "                 'solver': 'linear_system',\n",
                "                 'n_workers': n_workers,\n",
                "                 'initial_state': initial_state_validation,\n",
                "                 'n_steps': n_validation,\n",
                "                 'tag': 'model_',\n",
                "                 'path_to_save': path_to_save}"
            ]
        },
        {
            "cell_type": "markdown",
            "id": "13847c31-6046-4081-8296-aa020971336c",
            "metadata": {},
            "source": [
                "Wrapper for the objective function in order to enable communication with the hyper-search engine."
            ]
        },
        {
            "cell_type": "code",
            "execution_count": 21,
            "id": "09bb3f01-c276-4a08-8271-04a87e78f11d",
            "metadata": {},
            "outputs": [],
            "source": [
                "objective_wrapper = ObjectiveWrapper(test_data=validation_data,\n",
                "                                     forcings_input=forcings_validation_data,\n",
                "                                     initial_state=initial_state_validation,\n",
                "                                     n_steps=n_validation)"
            ]
        },
        {
            "cell_type": "markdown",
            "id": "daa5086d-9622-49d9-a840-9a7d00bdad17",
            "metadata": {},
            "source": [
                "Instantiating the hyper-search engine."
            ]
        },
        {
            "cell_type": "code",
            "execution_count": 22,
            "id": "937c05ca-e626-4542-bd74-2d3b0d8637d8",
            "metadata": {},
            "outputs": [],
            "source": [
                "hyper_search = ParamHyperOpt(params_intervals=params_intervals,\n",
                "                             params_suggestions=params_suggestions,\n",
                "                             name='oscillator_search',\n",
                "                             direction='minimize',\n",
                "                             trainer_template=HyperModelPoolESN,\n",
                "                             objective_wrapper=objective_wrapper,\n",
                "                             objective_function=objective,\n",
                "                             others_params=others_params,\n",
                "                             refresh=True)"
            ]
        },
        {
            "cell_type": "markdown",
            "id": "44859453-28c6-4d66-aa69-1d8a0cbf2631",
            "metadata": {},
            "source": [
                "Setting up datasets."
            ]
        },
        {
            "cell_type": "code",
            "execution_count": 23,
            "id": "73427fb9-c9db-4b6d-ad27-c8982ad00b29",
            "metadata": {},
            "outputs": [],
            "source": [
                "hyper_search.set_data(input_train_data=input_data,\n",
                "                          target_train_data=target_data,\n",
                "                          auxiliary_train_data=forcings_train_data,\n",
                "                          input_validation_data=validation_data,\n",
                "                          target_validation_data=validation_data,\n",
                "                          auxiliary_validation_data=forcings_validation_data,\n",
                "                          input_test_data=test_data,\n",
                "                          target_test_data=test_data,\n",
                "                          auxiliary_test_data = forcings_test_data)"
            ]
        },
        {
            "cell_type": "markdown",
            "id": "53d68a23-fa40-4279-9682-78f6df3eae44",
            "metadata": {},
            "source": [
                "Executing hyper-search."
            ]
        },
        {
            "cell_type": "code",
            "execution_count": 24,
            "id": "4f91f4b5-cc54-4cab-a100-f3ada1c3582b",
            "metadata": {},
            "outputs": [
                {
                    "name": "stdout",
                    "output_type": "stream",
                    "text": [
                        "Creating an instance from <class '__main__.HyperModelPoolESN'>\n",
                        "Initializing ESN matrices ...\n",
                        "Evaluating the hidden state ...\n",
                        " state 598\n",
                        "Applying transformation ...\n",
                        "Constructing W_out ...\n",
                        "Using multiprocessing engine.Using multiprocessing engine.Using multiprocessing engine.\n",
                        "\n",
                        "\n",
                        "Using multiprocessing engine.\n",
                        "Using multiprocessing engine.Using multiprocessing engine.\n",
                        "Using multiprocessing engine.\n",
                        "\n",
                        "Using multiprocessing engine.\n",
                        "Solving the linear system using the most proper algorithm.\n",
                        "Fitting concluded.\n"
                    ]
                },
                {
                    "name": "stderr",
                    "output_type": "stream",
                    "text": [
                        "\u001b[32m[I 2021-12-14 13:32:19,301]\u001b[0m Finished trial#0 with value: 21.175802363224754 with parameters: {'reservoir_dim': 1706, 'sparsity_level': 0.08060348200971132, 'radius': 0.5864432482632342, 'sigma': 0.3916357208788437, 'beta_exp': -4}. Best is trial#0 with value: 21.175802363224754.\u001b[0m\n"
                    ]
                },
                {
                    "name": "stdout",
                    "output_type": "stream",
                    "text": [
                        "Creating an instance from <class '__main__.HyperModelPoolESN'>\n",
                        "Initializing ESN matrices ...\n",
                        "Evaluating the hidden state ...\n",
                        " state 598\n",
                        "Applying transformation ...\n",
                        "Constructing W_out ...\n",
                        "Using multiprocessing engine.Using multiprocessing engine.\n",
                        "Using multiprocessing engine.Using multiprocessing engine.\n",
                        "\n",
                        "\n",
                        "Using multiprocessing engine.\n",
                        "Using multiprocessing engine.\n",
                        "Using multiprocessing engine.\n",
                        "Using multiprocessing engine.\n",
                        "Solving the linear system using the most proper algorithm.\n",
                        "Fitting concluded.\n"
                    ]
                },
                {
                    "name": "stderr",
                    "output_type": "stream",
                    "text": [
                        "\u001b[32m[I 2021-12-14 13:32:32,190]\u001b[0m Finished trial#1 with value: 21.239974805492263 with parameters: {'reservoir_dim': 1396, 'sparsity_level': 0.08844244499075869, 'radius': 0.5732247740821035, 'sigma': 0.4640142031323618, 'beta_exp': -4}. Best is trial#0 with value: 21.175802363224754.\u001b[0m\n"
                    ]
                },
                {
                    "name": "stdout",
                    "output_type": "stream",
                    "text": [
                        "Removing ./model_1.\n",
                        "Creating an instance from <class '__main__.HyperModelPoolESN'>\n",
                        "Initializing ESN matrices ...\n",
                        "Evaluating the hidden state ...\n",
                        " state 598\n",
                        "Applying transformation ...\n",
                        "Constructing W_out ...\n",
                        "Using multiprocessing engine.\n",
                        "Using multiprocessing engine.\n",
                        "Using multiprocessing engine.\n",
                        "Using multiprocessing engine.Using multiprocessing engine.\n",
                        "\n",
                        "Using multiprocessing engine.Using multiprocessing engine.\n",
                        "\n",
                        "Using multiprocessing engine.\n",
                        "Solving the linear system using the most proper algorithm.\n",
                        "Fitting concluded.\n"
                    ]
                },
                {
                    "name": "stderr",
                    "output_type": "stream",
                    "text": [
                        "\u001b[32m[I 2021-12-14 13:32:50,470]\u001b[0m Finished trial#2 with value: 22.67665135741441 with parameters: {'reservoir_dim': 1728, 'sparsity_level': 0.07350990984026284, 'radius': 0.3700811907693127, 'sigma': 0.4860410208165875, 'beta_exp': -2}. Best is trial#0 with value: 21.175802363224754.\u001b[0m\n"
                    ]
                },
                {
                    "name": "stdout",
                    "output_type": "stream",
                    "text": [
                        "Removing ./model_2.\n",
                        "Creating an instance from <class '__main__.HyperModelPoolESN'>\n",
                        "Initializing ESN matrices ...\n",
                        "Evaluating the hidden state ...\n",
                        " state 598\n",
                        "Applying transformation ...\n",
                        "Constructing W_out ...\n",
                        "Using multiprocessing engine.\n",
                        "Using multiprocessing engine.\n",
                        "Using multiprocessing engine.Using multiprocessing engine.\n",
                        "\n",
                        "Using multiprocessing engine.\n",
                        "Using multiprocessing engine.\n",
                        "Using multiprocessing engine.\n",
                        "Using multiprocessing engine.\n",
                        "Solving the linear system using the most proper algorithm.\n",
                        "Fitting concluded.\n"
                    ]
                },
                {
                    "name": "stderr",
                    "output_type": "stream",
                    "text": [
                        "\u001b[32m[I 2021-12-14 13:33:12,008]\u001b[0m Finished trial#3 with value: 23.122198919706157 with parameters: {'reservoir_dim': 1952, 'sparsity_level': 0.051454621461581036, 'radius': 0.6072483582768003, 'sigma': 0.4090629560745167, 'beta_exp': -2}. Best is trial#0 with value: 21.175802363224754.\u001b[0m\n"
                    ]
                },
                {
                    "name": "stdout",
                    "output_type": "stream",
                    "text": [
                        "Removing ./model_3.\n",
                        "Creating an instance from <class '__main__.HyperModelPoolESN'>\n",
                        "Initializing ESN matrices ...\n",
                        "Evaluating the hidden state ...\n",
                        " state 598\n",
                        "Applying transformation ...\n",
                        "Constructing W_out ...\n",
                        "Using multiprocessing engine.\n",
                        "Using multiprocessing engine.\n",
                        "Using multiprocessing engine.\n",
                        "Using multiprocessing engine.\n",
                        "Using multiprocessing engine.Using multiprocessing engine.\n",
                        "Using multiprocessing engine.\n",
                        "\n",
                        "Using multiprocessing engine.\n",
                        "Solving the linear system using the most proper algorithm.\n",
                        "Fitting concluded.\n"
                    ]
                },
                {
                    "name": "stderr",
                    "output_type": "stream",
                    "text": [
                        "\u001b[32m[I 2021-12-14 13:33:35,259]\u001b[0m Finished trial#4 with value: 22.641057589052078 with parameters: {'reservoir_dim': 1954, 'sparsity_level': 0.052362531261062946, 'radius': 0.383784679010151, 'sigma': 0.36867382710790075, 'beta_exp': -3}. Best is trial#0 with value: 21.175802363224754.\u001b[0m\n"
                    ]
                }
            ],
            "source": [
                "hyper_search.optimize(n_trials=n_trials)"
            ]
        }
    ],
    "metadata": {
        "kernelspec": {
            "display_name": "Python 3",
            "language": "python",
            "name": "python3"
        },
        "language_info": {
            "codemirror_mode": {
                "name": "ipython",
                "version": 3
            },
            "file_extension": ".py",
            "mimetype": "text/x-python",
            "name": "python",
            "nbconvert_exporter": "python",
            "pygments_lexer": "ipython3",
            "version": "3.7.7"
        }
    },
    "nbformat": 4,
    "nbformat_minor": 5
}