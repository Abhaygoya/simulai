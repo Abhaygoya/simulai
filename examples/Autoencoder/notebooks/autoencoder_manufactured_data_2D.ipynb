{
 "cells": [
  {
   "cell_type": "code",
   "execution_count": 1,
   "id": "737ba22c",
   "metadata": {},
   "outputs": [],
   "source": [
    "# (C) Copyright IBM Corp. 2019, 2020, 2021, 2022.\n",
    "\n",
    "#    Licensed under the Apache License, Version 2.0 (the \"License\");\n",
    "#    you may not use this file except in compliance with the License.\n",
    "#    You may obtain a copy of the License at\n",
    "\n",
    "#           http://www.apache.org/licenses/LICENSE-2.0\n",
    "\n",
    "#     Unless required by applicable law or agreed to in writing, software\n",
    "#     distributed under the License is distributed on an \"AS IS\" BASIS,\n",
    "#     WITHOUT WARRANTIES OR CONDITIONS OF ANY KIND, either express or implied.\n",
    "#     See the License for the specific language governing permissions and\n",
    "#     limitations under the License.\n"
   ]
  },
  {
   "cell_type": "markdown",
   "id": "94c51a7e",
   "metadata": {},
   "source": [
    "## Testing Variational AutoEncoder using a manufactured dataset as input."
   ]
  },
  {
   "cell_type": "code",
   "execution_count": 2,
   "id": "6f931278",
   "metadata": {},
   "outputs": [],
   "source": [
    "import sys\n",
    "import imageio\n",
    "import matplotlib.pyplot as plt\n",
    "\n",
    "import h5py\n",
    "import numpy as np\n",
    "import os\n",
    "\n",
    "# In order to execute this script, it is necessary to\n",
    "# set the environment variable engine as \"pytorch\" before initializing\n",
    "# simulai\n",
    "os.environ['engine'] = 'pytorch'\n",
    "\n",
    "# All the SimulAI imports \n",
    "from simulai.normalization import StandardNormalization\n",
    "from simulai.metrics import L2Norm\n",
    "from simulai.special import (Scattering, time_function, bidimensional_map_nonlin_1,\n",
    "                            bidimensional_map_nonlin_2, bidimensional_map_nonlin_3)\n",
    "\n",
    "from simulai.optimization import Optimizer\n",
    "from simulai.file import SPFile"
   ]
  },
  {
   "cell_type": "markdown",
   "id": "729811dc",
   "metadata": {},
   "source": [
    "### Normalization."
   ]
  },
  {
   "cell_type": "code",
   "execution_count": 3,
   "id": "8427d006",
   "metadata": {},
   "outputs": [],
   "source": [
    "def norm(data:np.ndarray=None, min_value:np.ndarray=None, max_value:np.ndarray=None) -> np.ndarray:\n",
    "\n",
    "    return (data - min_value[None, :, None, None])/(max_value[None, :, None, None] - min_value[None, :, None, None])"
   ]
  },
  {
   "cell_type": "markdown",
   "id": "9cedad83",
   "metadata": {},
   "source": [
    "### Generating manufactured datasets."
   ]
  },
  {
   "cell_type": "code",
   "execution_count": 4,
   "id": "b013339f",
   "metadata": {},
   "outputs": [
    {
     "data": {
      "image/png": "[encoded data removed]",
      "text/plain": [
       "<Figure size 432x288 with 1 Axes>"
      ]
     },
     "metadata": {
      "needs_background": "light"
     },
     "output_type": "display_data"
    }
   ],
   "source": [
    "# Generating manufactured data \n",
    "\n",
    "# The dataset 'data' is two-dimensional in space and has the shape (n_timesteps, n_x, n_y, n_variables)\n",
    "N_x = 28\n",
    "N_y = 28\n",
    "N_t = 2_000\n",
    "\n",
    "x = np.linspace(0, 1, N_x)\n",
    "y = np.linspace(0, 1, N_y)\n",
    "t = np.linspace(0, 100, N_t)\n",
    "\n",
    "T, X, Y = np.meshgrid(t, x, y, indexing=\"ij\")\n",
    "\n",
    "save_path = '.'\n",
    "train = True\n",
    "\n",
    "generator = Scattering(root=time_function, scatter_op=bidimensional_map_nonlin_3)\n",
    "data = generator.exec(data=T, scatter_data=(X, Y, 0.5, 0.5))\n",
    "data = data.reshape(data.shape + (1,))\n",
    "data = data.transpose(0, 3, 1, 2)\n",
    "# Plotting the last snapshot\n",
    "plt.imshow(data[-1, 0, ...])\n",
    "plt.show()"
   ]
  },
  {
   "cell_type": "markdown",
   "id": "c7000c52",
   "metadata": {},
   "source": [
    "### Defining datasets sizes."
   ]
  },
  {
   "cell_type": "code",
   "execution_count": 5,
   "id": "7ab20950",
   "metadata": {},
   "outputs": [],
   "source": [
    "n_samples = data.shape[0]\n",
    "train_size = int(0.6*n_samples)\n",
    "dev_size = int(0.2*n_samples)\n",
    "test_size = int(0.2*n_samples)"
   ]
  },
  {
   "cell_type": "markdown",
   "id": "249b0264",
   "metadata": {},
   "source": [
    "### Global parameters."
   ]
  },
  {
   "cell_type": "code",
   "execution_count": 6,
   "id": "613295c7",
   "metadata": {},
   "outputs": [],
   "source": [
    "lr = 1e-3\n",
    "train_fraction = 0.9\n",
    "n_samples_train = int(train_fraction*n_samples)\n",
    "n_epochs = 10_000 #100_000\n",
    "sample_rate = 1\n",
    "batch_size = 1_00"
   ]
  },
  {
   "cell_type": "markdown",
   "id": "e5862266",
   "metadata": {},
   "source": [
    "### Subdividing datasets."
   ]
  },
  {
   "cell_type": "code",
   "execution_count": 7,
   "id": "2005e76b",
   "metadata": {},
   "outputs": [],
   "source": [
    "data_train_ = data[:n_samples_train]\n",
    "data_test_ = data[n_samples_train:]\n",
    "\n",
    "min_value = data_train_.min((0,2,3))\n",
    "max_value = data_train_.max((0,2,3))\n",
    "\n",
    "data_train = norm(data=data_train_, min_value=min_value, max_value=max_value)\n",
    "data_test = norm(data=data_test_, min_value=min_value, max_value=max_value)\n",
    "\n",
    "n_inputs = 3\n",
    "n_outputs = 3"
   ]
  },
  {
   "cell_type": "markdown",
   "id": "0aa9f5d3",
   "metadata": {},
   "source": [
    "### Model template."
   ]
  },
  {
   "cell_type": "code",
   "execution_count": 8,
   "id": "032caae1",
   "metadata": {},
   "outputs": [],
   "source": [
    "def model():\n",
    "\n",
    "    from simulai.regression import ConvolutionalNetwork, SLFNN\n",
    "    from simulai.models import AutoencoderVariational\n",
    "\n",
    "    n_inputs = 1\n",
    "    n_outputs = 1\n",
    "    transpose = False\n",
    "    activation = 'relu'\n",
    "\n",
    "    ### Layers Configurations ####\n",
    "    ### BEGIN\n",
    "    encoder_layers = [\n",
    "\n",
    "        {'in_channels': n_inputs, 'out_channels': 16, 'kernel_size': 3, 'stride': 1, 'padding': 1,\n",
    "         'after_conv': {'type': 'maxpool2d', 'kernel_size': 2, 'stride': 2}},\n",
    "\n",
    "        {'in_channels': 16, 'out_channels': 32, 'kernel_size': 3, 'stride': 1, 'padding': 1,\n",
    "         'after_conv': {'type': 'maxpool2d', 'kernel_size': 2, 'stride': 2}}\n",
    "    ]\n",
    "\n",
    "    bottleneck_encoder_layers = {\n",
    "        'input_size': 1568,\n",
    "        'output_size': 20,\n",
    "        'activation': 'identity',\n",
    "        'name': 'bottleneck_encoder'\n",
    "    }\n",
    "\n",
    "    bottleneck_decoder_layers = {\n",
    "        'input_size': 20,\n",
    "        'output_size': 1568,\n",
    "        'activation': 'identity',\n",
    "        'name': 'bottleneck_decoder'\n",
    "    }\n",
    "\n",
    "\n",
    "    decoder_layers = [\n",
    "\n",
    "        {'in_channels': 32, 'out_channels': 16, 'kernel_size': 3, 'stride': 1, 'padding': 1,\n",
    "         'before_conv': {'type': 'upsample', 'scale_factor': 2, 'mode': 'bicubic'}},\n",
    "\n",
    "        {'in_channels': 16, 'out_channels': n_outputs, 'kernel_size': 3, 'stride': 1, 'padding': 1,\n",
    "         'before_conv': {'type': 'upsample', 'scale_factor': 2, 'mode': 'bicubic'}}\n",
    "\n",
    "    ]\n",
    "\n",
    "    ### END\n",
    "    ### Layers Configurations ####\n",
    "    # Instantiating network\n",
    "    encoder = ConvolutionalNetwork(layers=encoder_layers, activations=activation, case='2d', name=\"encoder\")\n",
    "    bottleneck_encoder = SLFNN(**bottleneck_encoder_layers)\n",
    "    bottleneck_decoder = SLFNN(**bottleneck_decoder_layers)\n",
    "    decoder = ConvolutionalNetwork(layers=decoder_layers, activations=activation, case='2d',\n",
    "                                   transpose=transpose, name=\"decoder\")\n",
    "\n",
    "    autoencoder = AutoencoderVariational(encoder=encoder, bottleneck_encoder=bottleneck_encoder,\n",
    "                                         bottleneck_decoder=bottleneck_decoder, decoder=decoder,\n",
    "                                         encoder_activation=activation, devices='gpu')\n",
    "\n",
    "    return autoencoder"
   ]
  },
  {
   "cell_type": "markdown",
   "id": "5509a95d",
   "metadata": {},
   "source": [
    "### Instantiating model and executing training."
   ]
  },
  {
   "cell_type": "code",
   "execution_count": 9,
   "id": "4bbd865e",
   "metadata": {},
   "outputs": [
    {
     "name": "stdout",
     "output_type": "stream",
     "text": [
      "OrderedDict([ ( 'Identity_0',\n",
      "                { 'Input shape': [None, 1, 28, 28],\n",
      "                  'Output shape': [None, 1, 28, 28]}),\n",
      "              ( 'Conv2d_0',\n",
      "                { 'Input shape': [None, 1, 28, 28],\n",
      "                  'Output shape': [None, 16, 28, 28]}),\n",
      "              ('Activation_0', ReLU()),\n",
      "              ( 'MaxPool2d_0',\n",
      "                { 'Input shape': [None, 16, 28, 28],\n",
      "                  'Output shape': [None, 16, 14, 14]}),\n",
      "              ( 'Identity_1',\n",
      "                { 'Input shape': [None, 16, 14, 14],\n",
      "                  'Output shape': [None, 16, 14, 14]}),\n",
      "              ( 'Conv2d_1',\n",
      "                { 'Input shape': [None, 16, 14, 14],\n",
      "                  'Output shape': [None, 32, 14, 14]}),\n",
      "              ('Activation_1', Identity()),\n",
      "              ( 'MaxPool2d_1',\n",
      "                { 'Input shape': [None, 32, 14, 14],\n",
      "                  'Output shape': [None, 32, 7, 7]})])\n",
      "Summary of the network properties:\n",
      "Linear operations layers:\n",
      "\n",
      "[Linear(in_features=1568, out_features=20, bias=True)]\n",
      "\n",
      "\n",
      "Activations layers:\n",
      "\n",
      "None\n",
      "\n",
      "\n",
      "Initializations at each layer:\n",
      "\n",
      "None\n",
      "Summary of the network properties:\n",
      "Linear operations layers:\n",
      "\n",
      "[Linear(in_features=20, out_features=1568, bias=True)]\n",
      "\n",
      "\n",
      "Activations layers:\n",
      "\n",
      "None\n",
      "\n",
      "\n",
      "Initializations at each layer:\n",
      "\n",
      "None\n",
      "Optimizer adam found in <module 'torch.optim' from '/home/jalmeida/.conda/envs/torchsimulaienv/lib/python3.9/site-packages/torch/optim/__init__.py'>.\n",
      "Warning: There is no GPU available, using CPU instead.\n",
      "Using LR decay <class 'torch.optim.lr_scheduler.ExponentialLR'>.\n",
      "Executing batchwise optimization loop.\n",
      "residual loss: 0.0834115594625473, kl_loss:0.00156855420209467418Trying to move all the tensors to the destiny device cpu.\n",
      "Moving concluded.\n"
     ]
    }
   ],
   "source": [
    "autoencoder = model()\n",
    "\n",
    "autoencoder.summary(input_shape=list(data_train.shape))\n",
    "\n",
    "optimizer_config = {'lr': lr,  'n_samples': n_samples_train}\n",
    "weights = [1]\n",
    "\n",
    "params = {'lambda_1': 0., 'lambda_2': 0., 'use_mean': False, 'relative': True}\n",
    "\n",
    "optimizer = Optimizer('adam', params=optimizer_config, lr_decay_scheduler_params={'name': 'ExponentialLR',\n",
    "                                                                                          'gamma': 0.9,\n",
    "                                                                                          'decay_frequency': 10_000})\n",
    "\n",
    "optimizer.fit(op=autoencoder, input_data=data_train, target_data=data_train,\n",
    "              n_epochs=n_epochs, loss=\"vaermse\", params=params, batch_size=batch_size, device='gpu')\n",
    "\n",
    "saver = SPFile(compact=False)\n",
    "saver.write(save_dir=save_path, name=f'autoencoder_rb_variational', model=autoencoder, template=model, device='cpu')"
   ]
  },
  {
   "cell_type": "markdown",
   "id": "2b6afcc6",
   "metadata": {},
   "source": [
    "### Reloading model from disk and executing predictions."
   ]
  },
  {
   "cell_type": "code",
   "execution_count": 10,
   "id": "2e528ffa",
   "metadata": {},
   "outputs": [
    {
     "name": "stdout",
     "output_type": "stream",
     "text": [
      "OrderedDict([ ( 'Identity_0',\n",
      "                { 'Input shape': [None, 1, 28, 28],\n",
      "                  'Output shape': [None, 1, 28, 28]}),\n",
      "              ( 'Conv2d_0',\n",
      "                { 'Input shape': [None, 1, 28, 28],\n",
      "                  'Output shape': [None, 16, 28, 28]}),\n",
      "              ('Activation_0', ReLU()),\n",
      "              ( 'MaxPool2d_0',\n",
      "                { 'Input shape': [None, 16, 28, 28],\n",
      "                  'Output shape': [None, 16, 14, 14]}),\n",
      "              ( 'Identity_1',\n",
      "                { 'Input shape': [None, 16, 14, 14],\n",
      "                  'Output shape': [None, 16, 14, 14]}),\n",
      "              ( 'Conv2d_1',\n",
      "                { 'Input shape': [None, 16, 14, 14],\n",
      "                  'Output shape': [None, 32, 14, 14]}),\n",
      "              ('Activation_1', Identity()),\n",
      "              ( 'MaxPool2d_1',\n",
      "                { 'Input shape': [None, 32, 14, 14],\n",
      "                  'Output shape': [None, 32, 7, 7]})])\n",
      "Summary of the network properties:\n",
      "Linear operations layers:\n",
      "\n",
      "[Linear(in_features=1568, out_features=20, bias=True)]\n",
      "\n",
      "\n",
      "Activations layers:\n",
      "\n",
      "None\n",
      "\n",
      "\n",
      "Initializations at each layer:\n",
      "\n",
      "None\n",
      "Summary of the network properties:\n",
      "Linear operations layers:\n",
      "\n",
      "[Linear(in_features=20, out_features=1568, bias=True)]\n",
      "\n",
      "\n",
      "Activations layers:\n",
      "\n",
      "None\n",
      "\n",
      "\n",
      "Initializations at each layer:\n",
      "\n",
      "None\n",
      "Projection error: 29.32360720803115 %\n",
      "Projecting batch 0.\n",
      "Projecting batch 1.\n"
     ]
    }
   ],
   "source": [
    "saver = SPFile(compact=False)\n",
    "autoencoder_reload = saver.read(model_path=os.path.join(save_path, f\"autoencoder_rb_variational\"))\n",
    "autoencoder_reload.summary(input_shape=list(data_train.shape))\n",
    "\n",
    "approximated_data = autoencoder_reload.eval(input_data=data_test[:])\n",
    "\n",
    "l2_norm = L2Norm()\n",
    "\n",
    "error = 100*l2_norm(data=approximated_data, reference_data=data_test[::], relative_norm=True)\n",
    "\n",
    "print(f\"Projection error: {error} %\")\n",
    "\n",
    "import torch\n",
    "\n",
    "batches = np.array_split(np.arange(data.shape[0]), int(data.shape[0]/1_000))\n",
    "\n",
    "latent_series = list()\n",
    "for i, batch in enumerate(batches):\n",
    "\n",
    "    print(f\"Projecting batch {i}.\")\n",
    "    latent_series.append(autoencoder_reload.project(input_data=torch.from_numpy(data[batch].astype('float32'))).detach().numpy())\n",
    "\n",
    "latent_series = np.vstack(latent_series)"
   ]
  },
  {
   "cell_type": "markdown",
   "id": "cca627a9",
   "metadata": {},
   "source": [
    "### Observing the latent dynamics"
   ]
  },
  {
   "cell_type": "code",
   "execution_count": 17,
   "id": "764d8bba",
   "metadata": {},
   "outputs": [
    {
     "data": {
      "text/plain": [
       "Text(0, 0.5, 'Series 20')"
      ]
     },
     "execution_count": 17,
     "metadata": {},
     "output_type": "execute_result"
    },
    {
     "data": {
      "image/png": "[encoded data removed]",
      "text/plain": [
       "<Figure size 432x288 with 5 Axes>"
      ]
     },
     "metadata": {
      "needs_background": "light"
     },
     "output_type": "display_data"
    }
   ],
   "source": [
    "interval = [500, 700]\n",
    "fig, axs = plt.subplots(5, 1, sharex='col')\n",
    "t_ = t[slice(*interval)]\n",
    "\n",
    "axs[0].plot(t_, latent_series[slice(*interval), 0], color='blue')\n",
    "axs[0].set_ylabel(r\"Series 0\")\n",
    "\n",
    "axs[1].plot(t_, latent_series[slice(*interval), 5], color='red')\n",
    "axs[1].set_ylabel(\"Series 5\")\n",
    "\n",
    "axs[2].plot(t_, latent_series[slice(*interval),10], color='orange')\n",
    "axs[2].set_ylabel(\"Series 10\")\n",
    "\n",
    "axs[3].plot(t_, latent_series[slice(*interval),15], color='green')\n",
    "axs[3].set_ylabel(\"Series 15\")\n",
    "\n",
    "axs[4].plot(t_, latent_series[slice(*interval),-1], color='purple')\n",
    "axs[4].set_ylabel(\"Series 20\")"
   ]
  },
  {
   "cell_type": "markdown",
   "id": "77d456d3",
   "metadata": {},
   "source": [
    "### Comparing reconstruction and ground truth."
   ]
  },
  {
   "cell_type": "code",
   "execution_count": 12,
   "id": "c5bff023",
   "metadata": {},
   "outputs": [
    {
     "data": {
      "image/png": "[encoded data removed]",
      "text/plain": [
       "<Figure size 432x288 with 1 Axes>"
      ]
     },
     "metadata": {
      "needs_background": "light"
     },
     "output_type": "display_data"
    }
   ],
   "source": [
    "plt.close()\n",
    "plt.imshow(approximated_data[-1, 0, ...])\n",
    "plt.show()"
   ]
  },
  {
   "cell_type": "code",
   "execution_count": 13,
   "id": "1c5fab09",
   "metadata": {},
   "outputs": [
    {
     "data": {
      "image/png": "[encoded data removed]",
      "text/plain": [
       "<Figure size 432x288 with 1 Axes>"
      ]
     },
     "metadata": {
      "needs_background": "light"
     },
     "output_type": "display_data"
    }
   ],
   "source": [
    "plt.imshow(data_test[-1, 0, ...])\n",
    "plt.show()"
   ]
  },
  {
   "cell_type": "code",
   "execution_count": 14,
   "id": "b8309f57-a101-4920-ab8f-56b59de3424a",
   "metadata": {},
   "outputs": [
    {
     "data": {
      "text/plain": [
       "{'loss': array([0.97300446, 0.9262808 , 0.86647087, ..., 0.08184685, 0.0834108 ,\n",
       "        0.08341156]),\n",
       " 'kl_loss': array([0.01713962, 0.02194542, 0.02449647, ..., 0.00159131, 0.00157843,\n",
       "        0.00156855])}"
      ]
     },
     "execution_count": 14,
     "metadata": {},
     "output_type": "execute_result"
    }
   ],
   "source": [
    "optimizer.loss_states"
   ]
  },
  {
   "cell_type": "code",
   "execution_count": 15,
   "id": "5b0f1a6a-fe10-44c7-a382-87340ee374ae",
   "metadata": {},
   "outputs": [
    {
     "data": {
      "text/plain": [
       "[<matplotlib.lines.Line2D at 0x7f64df36fe50>]"
      ]
     },
     "execution_count": 15,
     "metadata": {},
     "output_type": "execute_result"
    },
    {
     "data": {
      "image/png": "[encoded data removed]",
      "text/plain": [
       "<Figure size 432x288 with 1 Axes>"
      ]
     },
     "metadata": {
      "needs_background": "light"
     },
     "output_type": "display_data"
    }
   ],
   "source": [
    "plt.plot(optimizer.loss_states['loss'])"
   ]
  },
  {
   "cell_type": "code",
   "execution_count": 16,
   "id": "879a6026-fb58-4353-aa67-2a0f6cc0aa5a",
   "metadata": {},
   "outputs": [
    {
     "data": {
      "text/plain": [
       "[<matplotlib.lines.Line2D at 0x7f64df2d6d60>]"
      ]
     },
     "execution_count": 16,
     "metadata": {},
     "output_type": "execute_result"
    },
    {
     "data": {
      "image/png": "[encoded data removed]",
      "text/plain": [
       "<Figure size 432x288 with 1 Axes>"
      ]
     },
     "metadata": {
      "needs_background": "light"
     },
     "output_type": "display_data"
    }
   ],
   "source": [
    "plt.plot(optimizer.loss_states['kl_loss'])"
   ]
  }
 ],
 "metadata": {
  "kernelspec": {
   "display_name": "Python 3 (ipykernel)",
   "language": "python",
   "name": "python3"
  },
  "language_info": {
   "codemirror_mode": {
    "name": "ipython",
    "version": 3
   },
   "file_extension": ".py",
   "mimetype": "text/x-python",
   "name": "python",
   "nbconvert_exporter": "python",
   "pygments_lexer": "ipython3",
   "version": "3.9.1"
  }
 },
 "nbformat": 4,
 "nbformat_minor": 5
}
