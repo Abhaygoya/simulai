{
    "cells": [
        {
            "cell_type": "code",
            "metadata": {},
            "source": [
                "# (C) Copyright IBM Corp. 2019, 2020, 2021, 2022.\n",
                "\n",
                "#    Licensed under the Apache License, Version 2.0 (the \"License\");\n",
                "#    you may not use this file except in compliance with the License.\n",
                "#    You may obtain a copy of the License at\n",
                "\n",
                "#           http://www.apache.org/licenses/LICENSE-2.0\n",
                "\n",
                "#     Unless required by applicable law or agreed to in writing, software\n",
                "#     distributed under the License is distributed on an \"AS IS\" BASIS,\n",
                "#     WITHOUT WARRANTIES OR CONDITIONS OF ANY KIND, either express or implied.\n",
                "#     See the License for the specific language governing permissions and\n",
                "#     limitations under the License.\n"
            ]
        },
        {
            "cell_type": "code",
            "execution_count": 1,
            "id": "d2422554-cb16-49d8-88e3-6bc2bd8e4e37",
            "metadata": {},
            "outputs": [],
            "source": [
                "import os, sys\n",
                "import numpy as np\n",
                "import torch\n",
                "import matplotlib.pyplot as plt\n",
                "from simulai.regression import DenseNetwork\n",
                "from simulai.models import DeepONet\n",
                "from simulai.optimization import Optimizer"
            ]
        },
        {
            "cell_type": "code",
            "execution_count": 2,
            "id": "6a1e5559-98cb-49e8-bfc5-b10b25515740",
            "metadata": {},
            "outputs": [
                {
                    "data": {
                        "text/plain": [
                            "'/home/jalmeida/Datasets/Lotka-Volterra/Lotka_Volterra_dataset.npz'"
                        ]
                    },
                    "execution_count": 2,
                    "metadata": {},
                    "output_type": "execute_result"
                }
            ],
            "source": [
                "data_path = os.environ['DATASET_PATH']\n",
                "data_path"
            ]
        },
        {
            "cell_type": "code",
            "execution_count": 3,
            "id": "8917f1d8-8689-473f-ab00-d3324295f25a",
            "metadata": {},
            "outputs": [],
            "source": [
                "datasets = np.load(data_path)"
            ]
        },
        {
            "cell_type": "code",
            "execution_count": 4,
            "id": "9625ab65-0688-4250-a636-05d8e57a93f7",
            "metadata": {},
            "outputs": [],
            "source": [
                "input_dataset_raw = datasets['input_dataset']\n",
                "output_dataset_raw = datasets['diff_output_dataset']\n",
                "time_raw = datasets['time']"
            ]
        },
        {
            "cell_type": "code",
            "execution_count": 5,
            "id": "ab9ded2b-2e2b-4ce2-939a-888419b1e31d",
            "metadata": {},
            "outputs": [],
            "source": [
                "time_interval = [0, 120]\n",
                "n_cases = 200\n",
                "n_cases_test = 20\n",
                "n_sensors = 100\n",
                "n_time_samples = 50\n",
                "latent_dim = 500\n",
                "n_vars = 2\n",
                "activation = \"tanh\"\n",
                "layers_units = [50, 50, 50]\n",
                "n_inputs = 1\n",
                "lr = 1e-3\n",
                "lambda_1 = 0.0\n",
                "lambda_2 = 1e-5\n",
                "n_epochs = 10000"
            ]
        },
        {
            "cell_type": "code",
            "execution_count": 6,
            "id": "1e5e0aae-0477-426d-b7f0-4f747b76227b",
            "metadata": {},
            "outputs": [],
            "source": [
                "time_ = time_raw[time_raw <= time_interval[-1]]\n",
                "time_indices = sorted(np.random.choice(time_.shape[0], n_time_samples))"
            ]
        },
        {
            "cell_type": "code",
            "execution_count": 7,
            "id": "c4651a6e-a8b6-4563-9f36-0faa306f7a36",
            "metadata": {},
            "outputs": [],
            "source": [
                "time = time_[time_indices]"
            ]
        },
        {
            "cell_type": "code",
            "execution_count": 8,
            "id": "4132b6e0-1f90-4a66-bedf-a3c72c762f2a",
            "metadata": {},
            "outputs": [],
            "source": [
                "output_dataset_train = output_dataset_raw[:,:, :n_cases]\n",
                "output_dataset_test = output_dataset_raw[:,:,n_cases:]\n",
                "\n",
                "input_dataset_train = input_dataset_raw[:, :n_cases]\n",
                "input_dataset_test = input_dataset_raw[:,n_cases:]"
            ]
        },
        {
            "cell_type": "code",
            "execution_count": 9,
            "id": "f926bccd-2c84-4ca7-9276-a1ddd9bc2bcd",
            "metadata": {},
            "outputs": [],
            "source": [
                "output_dataset_time_sampled = output_dataset_train[time_indices]\n",
                "input_dataset_sensor_sampled = input_dataset_train[time_indices][:,None,:]\n",
                "time_sampled = time_raw[time_indices]\n",
                "verify_case_index = 100"
            ]
        },
        {
            "cell_type": "code",
            "execution_count": 10,
            "id": "8569dbe7-8066-4870-93c7-46b7a79be871",
            "metadata": {},
            "outputs": [
                {
                    "data": {
                        "image/png": "[encoded data removed]",
                        "text/plain": [
                            "<Figure size 640x480 with 1 Axes>"
                        ]
                    },
                    "metadata": {},
                    "output_type": "display_data"
                }
            ],
            "source": [
                "plt.plot(time_raw, output_dataset_train[:, 0, verify_case_index])\n",
                "plt.plot(time_raw, output_dataset_train[:, 1, verify_case_index])\n",
                "plt.scatter(time, output_dataset_time_sampled[:, 0, verify_case_index], s=4, marker='x')\n",
                "plt.scatter(time, output_dataset_time_sampled[:, 1, verify_case_index], s=4, marker='x')\n",
                "plt.show()"
            ]
        },
        {
            "cell_type": "code",
            "execution_count": 11,
            "id": "1daa8c3d-0dff-4a4b-9449-28d9228b88e2",
            "metadata": {},
            "outputs": [],
            "source": [
                "output_target = output_dataset_time_sampled.transpose(0, 2, 1).reshape(n_cases*n_time_samples, -1)"
            ]
        },
        {
            "cell_type": "code",
            "execution_count": 12,
            "id": "a02a69f0-8a20-4600-8061-c20b264fd1ab",
            "metadata": {},
            "outputs": [],
            "source": [
                "input_branch = input_dataset_sensor_sampled.transpose(0, 2, 1).reshape(n_cases*n_time_samples, -1)"
            ]
        },
        {
            "cell_type": "code",
            "execution_count": 13,
            "id": "25e95bd6-f433-41b3-bfd6-f2ed5f9fcd4c",
            "metadata": {},
            "outputs": [],
            "source": [
                "input_trunk = np.tile(time[:,None], (n_cases, 1))"
            ]
        },
        {
            "cell_type": "code",
            "execution_count": 14,
            "id": "5a039d4c-704f-4c47-adf5-27957afeb02f",
            "metadata": {},
            "outputs": [],
            "source": [
                "input_data = np.hstack([input_branch, input_trunk])"
            ]
        },
        {
            "cell_type": "code",
            "execution_count": 15,
            "id": "6da66465-9c11-429f-b2a5-dc55eb8fbaf5",
            "metadata": {},
            "outputs": [
                {
                    "name": "stdout",
                    "output_type": "stream",
                    "text": [
                        "Summary of the network properties:\n",
                        "Linear operations layers:\n",
                        "\n",
                        "[Linear(in_features=2, out_features=50, bias=True), Linear(in_features=50, out_features=50, bias=True), Linear(in_features=50, out_features=50, bias=True), Linear(in_features=50, out_features=2, bias=True)]\n",
                        "Activations layers:\n",
                        "\n",
                        "[Tanh(), Tanh(), Tanh(), Identity()]\n",
                        "Initializations at each layer:\n",
                        "\n",
                        "['xavier', 'xavier', 'xavier', 'xavier']\n"
                    ]
                }
            ],
            "source": [
                "# Configuration for the fully-connected network\n",
                "config_net = {\n",
                "                'layers_units': [50, 50, 50],\n",
                "                'activations': activation,\n",
                "                'input_size': input_data.shape[1],\n",
                "                'output_size': output_target.shape[1],\n",
                "                'name': 'Lotka-Volterra'\n",
                "             }\n",
                "\n",
                "# Instantiating and training the surrogate model\n",
                "net = DenseNetwork(**config_net)\n",
                "\n",
                "net.summary()\n",
                "\n",
                "optimizer_config = {'lr': lr}\n",
                "\n",
                "# Maximum derivative magnitudes to be used as loss weights\n",
                "maximum_values = (1/np.linalg.norm(output_target, 2, axis=0)).tolist()\n",
                "\n",
                "params = {'lambda_1': lambda_1, 'lambda_2': lambda_2, 'weights': maximum_values}"
            ]
        },
        {
            "cell_type": "code",
            "execution_count": 16,
            "id": "cb9cb1e3-d92b-40b5-a47b-c647d4a6f0ba",
            "metadata": {},
            "outputs": [
                {
                    "name": "stdout",
                    "output_type": "stream",
                    "text": [
                        "Using CPU.\n",
                        "loss: 0.056346885859966285"
                    ]
                }
            ],
            "source": [
                "optimizer = Optimizer('adam', params=optimizer_config)\n",
                "optimizer.fit(op=net, input_data=input_data, target_data=output_target,\n",
                "              n_epochs=n_epochs, loss=\"wrmse\", params=params)"
            ]
        }
    ],
    "metadata": {
        "kernelspec": {
            "display_name": "Python 3",
            "language": "python",
            "name": "python3"
        },
        "language_info": {
            "codemirror_mode": {
                "name": "ipython",
                "version": 3
            },
            "file_extension": ".py",
            "mimetype": "text/x-python",
            "name": "python",
            "nbconvert_exporter": "python",
            "pygments_lexer": "ipython3",
            "version": "3.7.7"
        }
    },
    "nbformat": 4,
    "nbformat_minor": 5
}