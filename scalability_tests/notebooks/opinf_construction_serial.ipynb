{
 "cells": [
  {
   "cell_type": "code",
   "execution_count": 1,
   "id": "bf0e1622-e92e-4948-8366-7fc5eee2ea66",
   "metadata": {},
   "outputs": [],
   "source": [
    "# (C) Copyright IBM Corp. 2019, 2020, 2021, 2022.\n",
    "\n",
    "#    Licensed under the Apache License, Version 2.0 (the \"License\");\n",
    "#    you may not use this file except in compliance with the License.\n",
    "#    You may obtain a copy of the License at\n",
    "\n",
    "#           http://www.apache.org/licenses/LICENSE-2.0\n",
    "\n",
    "#     Unless required by applicable law or agreed to in writing, software\n",
    "#     distributed under the License is distributed on an \"AS IS\" BASIS,\n",
    "#     WITHOUT WARRANTIES OR CONDITIONS OF ANY KIND, either express or implied.\n",
    "#     See the License for the specific language governing permissions and\n",
    "#     limitations under the License."
   ]
  },
  {
   "cell_type": "markdown",
   "id": "b83e6e7a-c6aa-4443-afd6-011925ab8cd7",
   "metadata": {},
   "source": [
    "#### Test case executed in a 20-core CPU."
   ]
  },
  {
   "cell_type": "code",
   "execution_count": 3,
   "id": "c31e55d6-6b09-487d-8bcc-2b1bdf20ce3e",
   "metadata": {},
   "outputs": [],
   "source": [
    "import sys\n",
    "from unittest import TestCase\n",
    "import numpy as np\n",
    "import time\n",
    "\n",
    "from simulai.regression import OpInf\n",
    "from simulai.metrics import L2Norm"
   ]
  },
  {
   "cell_type": "markdown",
   "id": "aee4dd98-4c13-4bd4-9236-6c59675e6837",
   "metadata": {},
   "source": [
    "#### Global parameters"
   ]
  },
  {
   "cell_type": "code",
   "execution_count": 3,
   "id": "78eaa33d-b2c5-4d06-a263-5a29fa087225",
   "metadata": {},
   "outputs": [],
   "source": [
    "N_SAMPLES = [1_000, 10_000, 100_000, 500_000]\n",
    "N_VARS = 100\n",
    "N_VARS_FORCING = 100"
   ]
  },
  {
   "cell_type": "markdown",
   "id": "e849ff3d-9b66-40f9-86e9-bb86658297c1",
   "metadata": {},
   "source": [
    "#### OpInf operators serial construction without forcing terms"
   ]
  },
  {
   "cell_type": "code",
   "execution_count": 4,
   "id": "5dc3df35-57d7-4d1c-b652-46a14ded4642",
   "metadata": {},
   "outputs": [],
   "source": [
    "def test_operators_construction():\n",
    "\n",
    "    for n_samples in N_SAMPLES:\n",
    "        \n",
    "        data_input = np.random.rand(n_samples, N_VARS)\n",
    "        data_output = np.random.rand(n_samples, N_VARS)\n",
    "\n",
    "        data_input[:, 0] = 1\n",
    "\n",
    "        lambda_linear = 1\n",
    "        lambda_quadratic = 1\n",
    "\n",
    "        # Instantiating OpInf\n",
    "        model = OpInf(bias_rescale=1, solver='pinv')\n",
    "\n",
    "        # Training\n",
    "        model.set(lambda_linear=lambda_linear, lambda_quadratic=lambda_quadratic)\n",
    "\n",
    "        start_time = time.time()\n",
    "        model.fit(input_data=data_input, target_data=data_output) \n",
    "        elapsed_time = time.time() - start_time\n",
    "\n",
    "        print(f\"Elapsed time for n_samples = {n_samples}: {elapsed_time} s \")"
   ]
  },
  {
   "cell_type": "markdown",
   "id": "b41bef2f-f883-4575-afcf-4be8a35678d6",
   "metadata": {},
   "source": [
    "#### OpInf operators serial construction with forcing terms"
   ]
  },
  {
   "cell_type": "code",
   "execution_count": 5,
   "id": "4d8910ae-d1a9-4095-b40c-f728dd123d29",
   "metadata": {},
   "outputs": [],
   "source": [
    "def test_operators_construction_forcing_linear():\n",
    "\n",
    "    for n_samples in N_SAMPLES:\n",
    "        \n",
    "        data_input = np.random.rand(n_samples, N_VARS)\n",
    "        data_output = np.random.rand(n_samples, N_VARS)\n",
    "        data_forcing = np.random.rand(n_samples, N_VARS_FORCING)\n",
    "\n",
    "        data_input[:, 0] = 1\n",
    "\n",
    "        lambda_linear = 1\n",
    "        lambda_quadratic = 1\n",
    "\n",
    "        forcing_case = 'linear'\n",
    "\n",
    "        # Instantiating OpInf\n",
    "        model = OpInf(bias_rescale=1, solver='pinv', forcing=forcing_case)\n",
    "\n",
    "        # Training\n",
    "        model.set(lambda_linear=lambda_linear, lambda_quadratic=lambda_quadratic)\n",
    "\n",
    "        start_time = time.time()\n",
    "        model.fit(input_data=data_input, target_data=data_output, forcing_data=data_forcing)\n",
    "        elapsed_time = time.time() - start_time\n",
    "\n",
    "        print(f\"Elapsed time for n_samples = {n_samples}: {elapsed_time} s \")"
   ]
  },
  {
   "cell_type": "markdown",
   "id": "049f013b-6e6d-4e88-9229-96e3c71050dd",
   "metadata": {},
   "source": [
    "#### Performance evaluation"
   ]
  },
  {
   "cell_type": "code",
   "execution_count": 6,
   "id": "1134dee7-2584-4a50-89a9-d6ef3662868b",
   "metadata": {},
   "outputs": [
    {
     "name": "stdout",
     "output_type": "stream",
     "text": [
      "Forcing terms are not being used.\n",
      "The data matrices fits in memory.\n",
      "Fitting process concluded.\n",
      "Elapsed time for n_samples = 1000: 0.7573978900909424 s \n",
      "Forcing terms are not being used.\n",
      "The data matrices fits in memory.\n",
      "Fitting process concluded.\n",
      "Elapsed time for n_samples = 10000: 27.594371557235718 s \n",
      "Forcing terms are not being used.\n",
      "The data matrices fits in memory.\n",
      "Fitting process concluded.\n",
      "Elapsed time for n_samples = 100000: 96.32340407371521 s \n",
      "Forcing terms are not being used.\n",
      "The data matrices fits in memory.\n",
      "Fitting process concluded.\n",
      "Elapsed time for n_samples = 500000: 448.2765097618103 s \n"
     ]
    }
   ],
   "source": [
    "test_operators_construction()"
   ]
  },
  {
   "cell_type": "code",
   "execution_count": 7,
   "id": "399e15ec-05aa-4703-8a47-45c16f999225",
   "metadata": {},
   "outputs": [
    {
     "name": "stdout",
     "output_type": "stream",
     "text": [
      "The data matrices fits in memory.\n",
      "Fitting process concluded.\n",
      "Elapsed time for n_samples = 1000: 0.6694581508636475 s \n",
      "The data matrices fits in memory.\n",
      "Fitting process concluded.\n",
      "Elapsed time for n_samples = 10000: 28.40011978149414 s \n",
      "The data matrices fits in memory.\n",
      "Fitting process concluded.\n",
      "Elapsed time for n_samples = 100000: 99.17971539497375 s \n",
      "The data matrices fits in memory.\n",
      "Fitting process concluded.\n",
      "Elapsed time for n_samples = 500000: 483.8785927295685 s \n"
     ]
    }
   ],
   "source": [
    "test_operators_construction_forcing_linear()"
   ]
  }
 ],
 "metadata": {
  "kernelspec": {
   "display_name": "Python 3 (ipykernel)",
   "language": "python",
   "name": "python3"
  },
  "language_info": {
   "codemirror_mode": {
    "name": "ipython",
    "version": 3
   },
   "file_extension": ".py",
   "mimetype": "text/x-python",
   "name": "python",
   "nbconvert_exporter": "python",
   "pygments_lexer": "ipython3",
   "version": "3.9.1"
  }
 },
 "nbformat": 4,
 "nbformat_minor": 5
}
